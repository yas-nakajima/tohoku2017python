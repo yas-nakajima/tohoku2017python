{
 "cells": [
  {
   "cell_type": "markdown",
   "metadata": {},
   "source": [
    "## 講習1 --- IRAFを使ってみる\n",
    "\n",
    "IRAFのオーソドックスな操作は、ターミナルからCLコマンドラインを使って対話的に行うものです。\n",
    "この対話的な操作を、python + Jupyter notebookを使っても行うことができます。\n",
    "ここでは、IRAFの基本的なタスク、display, imexam, imstatを使って見ます。  \n",
    "\n",
    "### pyrafのための準備  \n",
    "\n",
    "pythonからIRAFを使うにはpyrafを利用します。  \n",
    "pyrafを(便利に)使うためには、  \n",
    "\n",
    "- ホームディレクトリにirafというディレクトリを作成\n",
    "- そのディレクトリ内で mkirafを実行し、login.cl を作成\n",
    "- 必要に応じてそのlogin.clを編集  \n",
    "\n",
    "をしておきます。 こうしておくと、login.clでの設定がpyraf利用時に反映されます。また、~/iraf/uparm/に各タスク(imexam, imstatなど)のパラメータが保存されます。　　\n",
    "\n",
    "### モジュールの読み込み"
   ]
  },
  {
   "cell_type": "code",
   "execution_count": 1,
   "metadata": {},
   "outputs": [
    {
     "name": "stdout",
     "output_type": "stream",
     "text": [
      "Warning: sscanf library not installed on darwin\n"
     ]
    }
   ],
   "source": [
    "from pyraf import iraf "
   ]
  },
  {
   "cell_type": "markdown",
   "metadata": {},
   "source": [
    "これでirafのタスクをpythonで関数として使うことができます。('Warning : sscanf library not ... 'がでることがあります。とりえあず無視してください。)"
   ]
  },
  {
   "cell_type": "markdown",
   "metadata": {},
   "source": [
    "Unixコマンドを使い、カレントディレクトリおよびその中身を確認することができます。"
   ]
  },
  {
   "cell_type": "code",
   "execution_count": 2,
   "metadata": {},
   "outputs": [
    {
     "data": {
      "text/plain": [
       "'/Users/nakajima/git/tohoku2017python'"
      ]
     },
     "execution_count": 2,
     "metadata": {},
     "output_type": "execute_result"
    }
   ],
   "source": [
    "pwd"
   ]
  },
  {
   "cell_type": "code",
   "execution_count": 3,
   "metadata": {},
   "outputs": [
    {
     "name": "stdout",
     "output_type": "stream",
     "text": [
      "README.md             \u001b[31mcourse1_IRAF_1.ipynb\u001b[m\u001b[m*\r\n",
      "\u001b[34mcheck\u001b[m\u001b[m/                \u001b[34msample_data\u001b[m\u001b[m/\r\n"
     ]
    }
   ],
   "source": [
    "ls"
   ]
  },
  {
   "cell_type": "markdown",
   "metadata": {},
   "source": [
    "sample_data のディレクトリの中にサンプルの画像FITSファイルがあります。IRAFのコマンド、display, imexam, imstatを使って、それらファイルの表示やデータの吟味、統計量の測定をしてみましょう。"
   ]
  },
  {
   "cell_type": "markdown",
   "metadata": {},
   "source": [
    "### DS9にFITSデータを表示してみる\n",
    "\n",
    "別のターミナルからds9を立ち上げておきます。  \n",
    "irafモジュールのdisplay()関数を使い、引数としてファイルを指定します。"
   ]
  },
  {
   "cell_type": "code",
   "execution_count": 4,
   "metadata": {},
   "outputs": [
    {
     "name": "stdout",
     "output_type": "stream",
     "text": [
      "z1=977.7808 z2=1139.195\n"
     ]
    }
   ],
   "source": [
    "iraf.display('sample_data/hf0001.fits')"
   ]
  },
  {
   "cell_type": "markdown",
   "metadata": {},
   "source": [
    "ds9に、星がいくつか写っている視野が表示されましたね。  "
   ]
  },
  {
   "cell_type": "markdown",
   "metadata": {},
   "source": [
    "### imexam \n",
    "ds9にFITS画像を表示した状態で、次のコマンドを実行し、マウスカーソルを、星のないところにあてて**m**、あるいは星にあてて**a**や**r**をタイプしてみましょう。終わるときには**q**をタイプしてください。  \n",
    "\n",
    "**m**は、カウスカーソルを当てた部分の5x5ピクセルの範囲のカウント値の統計を表示します。バックグラウンドの値、ばらつきなどを調べるときに使います。  \n",
    "**a**は、星(点光源)の特徴量(ピーク値、fwhmなど)を表示します。  \n",
    "**r**は、星のradial profileを表示します。 星がサチっていれば一目でわかります。  "
   ]
  },
  {
   "cell_type": "code",
   "execution_count": 5,
   "metadata": {},
   "outputs": [
    {
     "name": "stdout",
     "output_type": "stream",
     "text": [
      "#            SECTION     NPIX     MEAN   MEDIAN   STDDEV      MIN      MAX\n",
      "   [547:551,610:614]       25    1053.    1055.    9.884    1023.    1072.\n",
      "   [388:392,471:475]       25    1061.    1058.    11.17    1041.    1082.\n",
      "   [505:509,400:404]       25    1053.    1055.    11.76    1023.    1077.\n",
      "#   COL    LINE   COORDINATES\n",
      "#     R    MAG    FLUX     SKY    PEAK    E   PA BETA ENCLOSED   MOFFAT DIRECT\n",
      " 588.15  510.25 588.15 510.25\n",
      "   5.58  13.16  54479.   1058.  10488. 0.12   33 1.62     1.89     1.81   1.86\n",
      "  6.28  12.99  63916.   1058.  10437. 0.08   39 11.2     1.98     2.23   2.09\n"
     ]
    }
   ],
   "source": [
    "iraf.imexam()"
   ]
  },
  {
   "cell_type": "markdown",
   "metadata": {
    "collapsed": true
   },
   "source": [
    "imexamでは、**r**とか**e**コマンドを使うとさらに別のグラフィックウィンドウが現れます。ブラウザとかの後ろに隠れているかもしれません。"
   ]
  },
  {
   "cell_type": "markdown",
   "metadata": {},
   "source": [
    "### imstat \n",
    "FITS画像の統計量を調べるタスクimstatを使ってみましょう。"
   ]
  },
  {
   "cell_type": "code",
   "execution_count": 6,
   "metadata": {
    "collapsed": true
   },
   "outputs": [],
   "source": [
    "iraf.imstat.unlearn()  #  パラメータをデフォルト値に"
   ]
  },
  {
   "cell_type": "code",
   "execution_count": 7,
   "metadata": {},
   "outputs": [
    {
     "name": "stdout",
     "output_type": "stream",
     "text": [
      "#               IMAGE      NPIX      MEAN    STDDEV       MIN       MAX\n",
      " sample_data/hf0001.fits   1048576     893.7     4103.  -199198.    25331.\n"
     ]
    }
   ],
   "source": [
    "iraf.imstat('sample_data/hf0001.fits')"
   ]
  },
  {
   "cell_type": "markdown",
   "metadata": {},
   "source": [
    "### eparでパラメータ設定 \n",
    "**iraf.epar('タスク名')** で、パラメータ設定の画面が別ウィンドウで開きます。GUIでパラメータ設定ができます。\n",
    "(2017-07 MacOS Sierra + Python3.5.3 + Jupyter Notebook では iraf.epar('display')などでUnicodeDecodeErrorが生じる)"
   ]
  },
  {
   "cell_type": "code",
   "execution_count": 8,
   "metadata": {
    "collapsed": true
   },
   "outputs": [],
   "source": [
    "iraf.epar('imstat')"
   ]
  },
  {
   "cell_type": "markdown",
   "metadata": {},
   "source": [
    "このように、GUIでもパラメータ設定ができるのですが、ここでは次の方法をおすすめします。  \n",
    "\n",
    "\n",
    "### 変数としてパラメータ設定\n",
    "\n",
    "Cellでタスクの変数にパラメータを代入してやります。この方法だと、使ったパラメータがこのノートブックに残るので、あとになって「この処理でどんなパラメータ使ったっけ？」となったときに助けになります。"
   ]
  },
  {
   "cell_type": "code",
   "execution_count": 29,
   "metadata": {
    "collapsed": true
   },
   "outputs": [],
   "source": [
    "iraf.imstat.fields = 'midpt, mean, stddev'\n",
    "iraf.imstat.lower = 100\n",
    "iraf.imstat.upper = 5000"
   ]
  },
  {
   "cell_type": "code",
   "execution_count": 12,
   "metadata": {},
   "outputs": [
    {
     "name": "stdout",
     "output_type": "stream",
     "text": [
      "#     MIDPT      MEAN    STDDEV\n",
      "      1058.     1059.     33.93\n"
     ]
    }
   ],
   "source": [
    "iraf.imstat('sample_data/hf0001.fits')"
   ]
  },
  {
   "cell_type": "markdown",
   "metadata": {},
   "source": [
    "どんな値がパラメータに入っているかを確認するには、それをprint()してやればよいです。"
   ]
  },
  {
   "cell_type": "code",
   "execution_count": 13,
   "metadata": {},
   "outputs": [
    {
     "name": "stdout",
     "output_type": "stream",
     "text": [
      "midpt, mean, stddev\n"
     ]
    }
   ],
   "source": [
    "print (iraf.imstat.fields)"
   ]
  },
  {
   "cell_type": "markdown",
   "metadata": {},
   "source": [
    "上ではimstat()の結果が標準出力に表示されました。それぞれの値を変数に保存するには次のようにします。"
   ]
  },
  {
   "cell_type": "code",
   "execution_count": 30,
   "metadata": {},
   "outputs": [
    {
     "name": "stdout",
     "output_type": "stream",
     "text": [
      "1058.264\n",
      "1059.271\n",
      "33.93\n",
      "1160.0592199999999\n"
     ]
    }
   ],
   "source": [
    "out = iraf.imstat('sample_data/hf0001.fits', format='no', Stdout=1) \n",
    "# format='no' でヘッダ行非表示、Stdout=1で戻り値を返す\n",
    "\n",
    "v = out[0].split()  #  戻り値はリスト\n",
    "median = float(v[0])   # 文字列をfloatに変換しておく\n",
    "mean = float(v[1])\n",
    "stddev = float(v[2])\n",
    "print (median)\n",
    "print (mean)\n",
    "print ('{:.2f}'.format(stddev))   #  フォーマット文を使ってみた\n",
    "print (median + 3 * stddev) # floatに変換しておかないとここでおかしなことになる"
   ]
  },
  {
   "cell_type": "markdown",
   "metadata": {},
   "source": [
    "デフォルトではStdout=0なので標準出力に値が返ります。戻り値を変数として返す場合にはStdout=1とします。"
   ]
  },
  {
   "cell_type": "markdown",
   "metadata": {},
   "source": [
    "### helpドキュメント\n",
    "\n",
    "このノートブック内でhelpを読むこともできます。  \n",
    "helpの表示が縦に長すぎる場合、左の余白部分(In[]: の下あたり)をクリックするとスクロールバーつきウインドウ表示になります。\n",
    "(私の環境でブラウザChromeの場合にはデフォルトでスクロールバー表示されます。)"
   ]
  },
  {
   "cell_type": "code",
   "execution_count": 22,
   "metadata": {
    "scrolled": true
   },
   "outputs": [],
   "source": [
    "#iraf.help('imstat')   #  Githubでは表示が長くなってしまうのでコメントアウトしておきます"
   ]
  },
  {
   "cell_type": "markdown",
   "metadata": {
    "collapsed": true
   },
   "source": [
    "**演習1**   \n",
    "sample_data ディレクトリに別のFITSファイル、hf0002.fitsがあります。  \n",
    "新しいノートブックファイルを作成し、\n",
    "1. imexamでバックグラウンドの値とばらつき、星の特徴量、を調べる。\n",
    "2. imstatでカウント値のメジアンなどを求める。\n",
    "3. imstatのnclipを2以上にしてみてください。どうなりましたか？それはなぜですか？　　"
   ]
  }
 ],
 "metadata": {
  "kernelspec": {
   "display_name": "Python 3",
   "language": "python",
   "name": "python3"
  },
  "language_info": {
   "codemirror_mode": {
    "name": "ipython",
    "version": 3
   },
   "file_extension": ".py",
   "mimetype": "text/x-python",
   "name": "python",
   "nbconvert_exporter": "python",
   "pygments_lexer": "ipython3",
   "version": "3.5.3"
  }
 },
 "nbformat": 4,
 "nbformat_minor": 1
}
