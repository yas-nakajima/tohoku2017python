{
 "cells": [
  {
   "cell_type": "markdown",
   "metadata": {},
   "source": [
    "## 講習0 --- Pythonとnotebook \n",
    "\n",
    "講習時の、この講習資料の使い方の説明を兼ねて、Pythonのインデントとモジュールの解説、\n",
    "およびnotebookの変数読み込みについて解説します。\n",
    "\n",
    "\n",
    "### Pythonのインデントとモジュール\n",
    "\n",
    "C言語などの他のプログラミング言語の経験があれば、Pythonの習得は簡単です。  \n",
    "ただし、いくつかPythonに特徴的な事項があります。  \n",
    "\n",
    "一番顕著なのは、インデント(字下げ)が意味を持つということでしょう。  \n",
    "forループの構造を紹介しながら説明します。  \n",
    "\n",
    "もう一つは、モジュールのimportとモジュール内の関数の使い方です。  \n"
   ]
  },
  {
   "cell_type": "markdown",
   "metadata": {},
   "source": [
    "#### インデント\n",
    "\n",
    "**forループ** \n",
    "\n",
    "C言語と比べるとずいぶん勝手がちがいます。  \n",
    "1. インデントされたブロックが、繰り返される部分です。\n",
    "2. リストの各要素を順番に繰り返し変数に代入して使います。  "
   ]
  },
  {
   "cell_type": "code",
   "execution_count": 1,
   "metadata": {},
   "outputs": [
    {
     "name": "stdout",
     "output_type": "stream",
     "text": [
      "0\n",
      "1\n",
      "2\n",
      "3\n"
     ]
    }
   ],
   "source": [
    "for i in [0,1,2,3]:\n",
    "    print (i)"
   ]
  },
  {
   "cell_type": "code",
   "execution_count": 2,
   "metadata": {},
   "outputs": [
    {
     "name": "stdout",
     "output_type": "stream",
     "text": [
      "0\n",
      "1\n",
      "2\n",
      "3\n",
      "4\n",
      "5\n",
      "15\n"
     ]
    }
   ],
   "source": [
    "sum = 0\n",
    "for i in range(6):  #   range()関数は0から引数の一つ前までの整数を順に返す\n",
    "    print (i)\n",
    "    sum += i\n",
    "print (sum)"
   ]
  },
  {
   "cell_type": "markdown",
   "metadata": {},
   "source": [
    "#### モジュールと関数\n",
    "\n",
    "標準の組み込み関数(print()、range()、open()など)をのぞいて、関数を使用する際には、親となるモジュールをimportする必要があります。\n",
    "\n",
    "mathモジュールのsqrt()関数を使う場合には次のようにします。  \n"
   ]
  },
  {
   "cell_type": "code",
   "execution_count": 3,
   "metadata": {
    "collapsed": true
   },
   "outputs": [],
   "source": [
    "import math"
   ]
  },
  {
   "cell_type": "code",
   "execution_count": 4,
   "metadata": {
    "scrolled": true
   },
   "outputs": [
    {
     "data": {
      "text/plain": [
       "5.477225575051661"
      ]
     },
     "execution_count": 4,
     "metadata": {},
     "output_type": "execute_result"
    }
   ],
   "source": [
    "math.sqrt(30)"
   ]
  },
  {
   "cell_type": "markdown",
   "metadata": {},
   "source": [
    "**.** を「の」と読んで、**math(モジュール) . (の) sqrt()** とコマンドします。"
   ]
  },
  {
   "cell_type": "code",
   "execution_count": 5,
   "metadata": {},
   "outputs": [
    {
     "data": {
      "text/plain": [
       "3.141592653589793"
      ]
     },
     "execution_count": 5,
     "metadata": {},
     "output_type": "execute_result"
    }
   ],
   "source": [
    "math.pi"
   ]
  },
  {
   "cell_type": "code",
   "execution_count": 6,
   "metadata": {
    "collapsed": true
   },
   "outputs": [],
   "source": [
    "a = math.e"
   ]
  },
  {
   "cell_type": "code",
   "execution_count": 7,
   "metadata": {},
   "outputs": [
    {
     "name": "stdout",
     "output_type": "stream",
     "text": [
      "2.718281828459045\n"
     ]
    }
   ],
   "source": [
    "print (a)"
   ]
  },
  {
   "cell_type": "markdown",
   "metadata": {
    "collapsed": true
   },
   "source": [
    "関数だけではなく、定数も含まれています。  "
   ]
  },
  {
   "cell_type": "markdown",
   "metadata": {},
   "source": [
    "### notebookの変数の読み込み  \n",
    "\n",
    "このipynbファイルを開いてすぐに、このすぐ上の **print(a)** のセルを実行([Shift]+[enter])してみてください。 \n",
    "エラーがでます。 「aなんて定義されていない」、と言われちゃいます。\n",
    "ファイルを開いただけでは、.ipynbの中の文字列が表示されただけなのです。  変数の読み込み、モジュールのimportなどはちゃんと実行してやらないといけません。  \n",
    "\n",
    "講習では、話を聞きながら、資料をなぞる感じで、一つづつCellを実行していってはいかがでしょうか？\n",
    "面倒な場合には、上部のメニューバーの Cell > Run All を選ぶと、ノートブック内のCellが上から順番に全て実行されます。  \n",
    "\n",
    "ただし、**講習1**では、ds9を立ち上げて、そこに画像を表示させて、、、という対話的な部分があるので、そのような場合には、Run Allは途中で止まってしまいます。"
   ]
  }
 ],
 "metadata": {
  "kernelspec": {
   "display_name": "Python 3",
   "language": "python",
   "name": "python3"
  },
  "language_info": {
   "codemirror_mode": {
    "name": "ipython",
    "version": 3
   },
   "file_extension": ".py",
   "mimetype": "text/x-python",
   "name": "python",
   "nbconvert_exporter": "python",
   "pygments_lexer": "ipython3",
   "version": "3.5.3"
  }
 },
 "nbformat": 4,
 "nbformat_minor": 1
}
