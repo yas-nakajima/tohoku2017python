{
 "cells": [
  {
   "cell_type": "markdown",
   "metadata": {},
   "source": [
    "## 講習3 --- 星の測光  \n",
    "\n",
    "点光源の明るさを測定してみます。ここでは、IRAFのAPPHOTを用いて、アパーチャ測光を行います。  \n"
   ]
  },
  {
   "cell_type": "markdown",
   "metadata": {},
   "source": [
    "### 星をひとつだけ選んで測光してみる  \n",
    "\n",
    "講習2で処理をした、idf0011.fitsの真ん中あたりの星の明るさを測ってみましょう。  \n",
    "\n",
    "#### 準備 \n",
    "- 星の位置を求めておく\n",
    "- 星のサイズ(fwhm)を求めておく\n",
    "- 背景のレベルとばらつきをもとめておく"
   ]
  },
  {
   "cell_type": "code",
   "execution_count": 1,
   "metadata": {},
   "outputs": [
    {
     "name": "stdout",
     "output_type": "stream",
     "text": [
      "Warning: sscanf library not installed on darwin\n"
     ]
    }
   ],
   "source": [
    "from pyraf import iraf"
   ]
  },
  {
   "cell_type": "code",
   "execution_count": 2,
   "metadata": {},
   "outputs": [
    {
     "name": "stdout",
     "output_type": "stream",
     "text": [
      "z1=-57.03943 z2=123.6036\n"
     ]
    }
   ],
   "source": [
    "iraf.display('idf0011.fits')"
   ]
  },
  {
   "cell_type": "code",
   "execution_count": 3,
   "metadata": {},
   "outputs": [
    {
     "name": "stdout",
     "output_type": "stream",
     "text": [
      "#   COL    LINE   COORDINATES\n",
      "#     R    MAG    FLUX     SKY    PEAK    E   PA BETA ENCLOSED   MOFFAT DIRECT\n",
      " 515.88  508.70 515.88 508.70\n",
      "   8.15  12.54  96499.   4.009   8887. 0.15   45 3.54     2.74     2.79   2.72\n",
      "#            SECTION     NPIX     MEAN   MEDIAN   STDDEV      MIN      MAX\n",
      "   [549:553,527:531]       25    3.369       0.    13.86   -23.69     35.5\n",
      "   [507:511,540:544]       25    11.88    14.34    20.27     -38.    54.91\n",
      "   [487:491,518:522]       25    8.139    7.602    21.01   -47.66    42.74\n",
      "   [495:499,486:490]       25    4.095    2.161     20.3   -44.92    47.67\n",
      "   [530:534,468:472]       25    1.239    1.014    21.19   -52.36    36.89\n",
      "   [543:547,493:497]       25     6.26    5.085    20.16   -32.92    49.59\n"
     ]
    }
   ],
   "source": [
    "iraf.imexam()"
   ]
  },
  {
   "cell_type": "markdown",
   "metadata": {},
   "source": [
    "星の位置は(x, y) = (516, 509)で、fwhm=2.8、背景のレベルとばらつきは、0と20としておきましょう。 "
   ]
  },
  {
   "cell_type": "markdown",
   "metadata": {},
   "source": [
    "#### パラメータの設定  \n",
    "\n",
    "apphotモジュールをimportします。"
   ]
  },
  {
   "cell_type": "code",
   "execution_count": 4,
   "metadata": {
    "collapsed": true
   },
   "outputs": [],
   "source": [
    "from iraf import apphot"
   ]
  },
  {
   "cell_type": "markdown",
   "metadata": {},
   "source": [
    "~/iraf/login.cl の記載内容によっては、\n",
    "``` python \n",
    "from iraf import noao\n",
    "from iraf import digiphot\n",
    "``` \n",
    "も必要かもしれません。 \n",
    "\n",
    "次に、測光に必要なパラメータを設定します。  "
   ]
  },
  {
   "cell_type": "code",
   "execution_count": 5,
   "metadata": {
    "collapsed": true
   },
   "outputs": [],
   "source": [
    "med = 0.  #  背景レベルとばらつき、fwhm\n",
    "std = 20.\n",
    "fwhm = 2.8\n",
    "\n",
    "iraf.apphot.unlearn()  #  デフォルト値に戻しておく\n",
    "\n",
    "iraf.apphot.datapars.datamax = 20000  #  検出器に特有な値\n",
    "iraf.apphot.datapars.readnoise = 30 #  検出器に特有な値\n",
    "iraf.apphot.datapars.epadu = 5 #  検出器に特有な値\n",
    "iraf.apphot.datapars.itime = 5  # 積分時間 \n",
    "\n",
    "iraf.apphot.phot.interactive = 'no'  \n",
    "iraf.apphot.phot.verify = 'no'\n",
    "iraf.apphot.phot.verbose = 'no'\n",
    "iraf.apphot.photpars.zmag = 21  # 等級のゼロ点\n",
    "\n",
    "iraf.apphot.datapars.fwhmpsf = fwhm   #  fwhmで決まるパラメータ\n",
    "iraf.apphot.centerpars.cbox = max(5.0, fwhm)\n",
    "iraf.apphot.fitskypars.annulus = 3 * fwhm\n",
    "iraf.apphot.photpars.apertures = 3 * fwhm\n",
    "iraf.apphot.fitskypars.dannulus = 5.\n",
    "\n",
    "iraf.apphot.datapars.sigma = std  #  背景のレベルとばらつきで決まるパラメータ\n",
    "iraf.apphot.datapars.datamin = med - 5 * std"
   ]
  },
  {
   "cell_type": "markdown",
   "metadata": {},
   "source": [
    "星のおよその位置をテキストファイルに書き込んでおきます。これはテキストエディタで手動で書き込んでおきましょう。"
   ]
  },
  {
   "cell_type": "code",
   "execution_count": 6,
   "metadata": {},
   "outputs": [
    {
     "name": "stdout",
     "output_type": "stream",
     "text": [
      "516 509\r\n"
     ]
    }
   ],
   "source": [
    "cat coo.txt   #  catはファイルの中身を見るlinuxコマンド "
   ]
  },
  {
   "cell_type": "markdown",
   "metadata": {},
   "source": [
    "この座標ファイルを、**iraf.phot()**に読み込ませます。"
   ]
  },
  {
   "cell_type": "code",
   "execution_count": 7,
   "metadata": {
    "collapsed": true
   },
   "outputs": [],
   "source": [
    "iraf.phot('idf0011.fits', coords='coo.txt', output='out.mag')"
   ]
  },
  {
   "cell_type": "markdown",
   "metadata": {},
   "source": [
    "最初の引数は、測光する対象のFITSファイル名です。coords=で読み込ませる座標ファイルの名前、output=で結果を書き出すファイル名を指定します。  \n",
    "\n",
    "結果のファイルは、iraf.phot()固有の形式で書き出されています。"
   ]
  },
  {
   "cell_type": "code",
   "execution_count": 8,
   "metadata": {
    "collapsed": true,
    "scrolled": true
   },
   "outputs": [],
   "source": [
    "#cat 'out.mag'   # githubでは長くなるのでコメントアウトしておきます"
   ]
  },
  {
   "cell_type": "markdown",
   "metadata": {},
   "source": [
    "通常、必要なのは、xcenter, ycenter, mag, merr です。**iraf.txdump()**を使って、それらだけを抜き出します。"
   ]
  },
  {
   "cell_type": "code",
   "execution_count": 9,
   "metadata": {},
   "outputs": [
    {
     "name": "stdout",
     "output_type": "stream",
     "text": [
      "515.882  508.629  10.294  0.005\n"
     ]
    }
   ],
   "source": [
    "iraf.txdump('out.mag', fields='xc,yc,mag,merr')"
   ]
  },
  {
   "cell_type": "markdown",
   "metadata": {},
   "source": [
    "Stdout=でファイル名を指定すれば、そこに書き出してくれます。"
   ]
  },
  {
   "cell_type": "code",
   "execution_count": 10,
   "metadata": {
    "collapsed": true
   },
   "outputs": [],
   "source": [
    "iraf.txdump('out.mag', fields='xc,yc,mag,merr', Stdout='result.txt')"
   ]
  },
  {
   "cell_type": "markdown",
   "metadata": {},
   "source": [
    "これで、ひとつだけ選んだ星の機械等級がもとまりました。  \n",
    "\n",
    "### 視野の星を検出させて測光してみる\n",
    "\n",
    "この視野の他の星の明るさも測りたいときには、どうするのでしょうか。まさか、全ての星の位置について手動で座標ファイルを作成するわけにはいきません。**iraf.daofind()**を使います。背景の'ばらつき'よりもどのくらい明るい星だけを見つけろ、という指示を与えます。  \n",
    "\n",
    "上の測光に必要なパラメータ設定に加えて、次も設定してやります。"
   ]
  },
  {
   "cell_type": "code",
   "execution_count": 11,
   "metadata": {
    "collapsed": true
   },
   "outputs": [],
   "source": [
    "iraf.apphot.findpars.threshold = 10  #  10シグマ以上のものを検出せよ \n",
    "iraf.apphot.findpars.sharphi = 0.8  # 星っぽくないものを除くため\n",
    "\n",
    "iraf.apphot.daofind.output = 'out.coo'  #  daofindの出力には、よく.cooという拡張子が使われる\n",
    "iraf.apphot.daofind.interac = 'no'\n",
    "iraf.apphot.daofind.verify = 'no'"
   ]
  },
  {
   "cell_type": "code",
   "execution_count": 12,
   "metadata": {
    "collapsed": true
   },
   "outputs": [],
   "source": [
    "iraf.daofind('idf0011.fits')"
   ]
  },
  {
   "cell_type": "code",
   "execution_count": 13,
   "metadata": {
    "collapsed": true
   },
   "outputs": [],
   "source": [
    "#cat 'out.coo'  # githubでは長くなるのでコメントアウトしておきます"
   ]
  },
  {
   "cell_type": "markdown",
   "metadata": {},
   "source": [
    "40個くらい星が検出されたようです。  \n",
    "先ほどと同様に、このファイルをiraf.phot()のcoords=で指定してやり、今度は結果をout2.magに出しましょう。"
   ]
  },
  {
   "cell_type": "code",
   "execution_count": 14,
   "metadata": {
    "collapsed": true
   },
   "outputs": [],
   "source": [
    "iraf.phot('idf0011.fits', coords='out.coo', output='out2.mag')"
   ]
  },
  {
   "cell_type": "code",
   "execution_count": 15,
   "metadata": {
    "scrolled": true
   },
   "outputs": [
    {
     "name": "stdout",
     "output_type": "stream",
     "text": [
      "312.002  30.900  13.578  0.086\n",
      "785.511  63.498  11.548  0.014\n",
      "250.494  113.489  11.472  0.012\n",
      "603.316  119.958  12.481  0.033\n",
      "222.467  129.443  12.633  0.036\n",
      "713.868  188.083  13.131  0.057\n",
      "502.051  207.508  12.914  0.045\n",
      "174.419  237.868  13.524  0.087\n",
      "35.204  238.805  11.930  0.020\n",
      "673.523  250.965  13.671  0.094\n",
      "598.713  265.580  13.986  0.119\n",
      "646.487  270.673  11.053  0.008\n",
      "239.394  299.813  INDEF  INDEF\n",
      "239.506  303.484  INDEF  INDEF\n",
      "288.244  341.014  13.686  0.096\n",
      "295.074  357.658  12.376  0.031\n",
      "753.546  379.476  13.308  0.065\n",
      "459.538  411.408  14.010  0.120\n",
      "94.773  455.272  13.830  0.105\n",
      "940.446  461.984  11.477  0.012\n",
      "515.882  508.629  10.294  0.005\n",
      "355.176  583.665  12.615  0.037\n",
      "952.449  599.439  13.476  0.071\n",
      "389.024  681.497  13.643  0.090\n",
      "52.301  703.531  9.513  0.003\n",
      "748.465  705.381  12.487  0.033\n",
      "235.315  705.592  12.621  0.037\n",
      "52.876  708.867  9.492  0.003\n",
      "425.532  781.090  INDEF  INDEF\n",
      "421.137  786.516  INDEF  INDEF\n",
      "427.249  787.271  INDEF  INDEF\n",
      "429.702  792.182  INDEF  INDEF\n",
      "385.600  800.435  12.206  0.026\n",
      "166.594  813.235  12.796  0.048\n",
      "211.481  847.018  13.539  0.086\n",
      "143.319  898.517  INDEF  INDEF\n",
      "142.942  898.415  INDEF  INDEF\n",
      "146.732  901.939  INDEF  INDEF\n",
      "143.461  902.528  INDEF  INDEF\n",
      "48.080  955.278  12.506  0.032\n",
      "839.579  976.969  12.922  0.045\n",
      "1005.638  990.563  11.202  0.010\n"
     ]
    }
   ],
   "source": [
    "iraf.txdump('out2.mag', fields='xc,yc,mag,merr')"
   ]
  },
  {
   "cell_type": "markdown",
   "metadata": {},
   "source": [
    "INDEFなんてのもあります。これは、たまたまバッドピクセルが測光領域に含まれていた、あるいは、サチった星です。  \n",
    "測光誤差を0.1等以下のものだけに絞ることで、INDEFのものも削除できます。  "
   ]
  },
  {
   "cell_type": "code",
   "execution_count": 16,
   "metadata": {
    "collapsed": true
   },
   "outputs": [],
   "source": [
    "iraf.txdump('out2.mag', fields='xc,yc,mag,merr', expr='merr < 0.1', Stdout='result2.txt')"
   ]
  },
  {
   "cell_type": "code",
   "execution_count": 17,
   "metadata": {},
   "outputs": [
    {
     "name": "stdout",
     "output_type": "stream",
     "text": [
      "312.002  30.900  13.578  0.086\r\n",
      "785.511  63.498  11.548  0.014\r\n",
      "250.494  113.489  11.472  0.012\r\n",
      "603.316  119.958  12.481  0.033\r\n",
      "222.467  129.443  12.633  0.036\r\n",
      "713.868  188.083  13.131  0.057\r\n",
      "502.051  207.508  12.914  0.045\r\n",
      "174.419  237.868  13.524  0.087\r\n",
      "35.204  238.805  11.930  0.020\r\n",
      "673.523  250.965  13.671  0.094\r\n"
     ]
    }
   ],
   "source": [
    "!head -n 10 result2.txt   #  一般的なlinuxコマンドは!をつけて実行可能 "
   ]
  },
  {
   "cell_type": "markdown",
   "metadata": {},
   "source": [
    "### 測光値の較正  \n",
    "\n",
    "ここで求まったものは、機械等級です。等級のゼロ点を適当に設定したものです。 \n",
    "どうやって本当の等級に直せば良いでしょうか。  \n",
    "\n",
    "実は、target1の真ん中の星は標準星といって、明るさのわかっている星です。  \n",
    "Persson et al. (1998)のNo.9182の星で、Hバンドでの等級は H=11.082(0.010)です。  \n",
    "\n",
    "この標準星の機械等級が10.294と求められたので、"
   ]
  },
  {
   "cell_type": "code",
   "execution_count": 18,
   "metadata": {},
   "outputs": [
    {
     "data": {
      "text/plain": [
       "0.7880000000000003"
      ]
     },
     "execution_count": 18,
     "metadata": {},
     "output_type": "execute_result"
    }
   ],
   "source": [
    "11.082 - 10.294"
   ]
  },
  {
   "cell_type": "markdown",
   "metadata": {},
   "source": [
    "result2.txtの全ての星の等級に + 0.788足せば較正ができたことになります。  "
   ]
  },
  {
   "cell_type": "code",
   "execution_count": 19,
   "metadata": {
    "collapsed": true
   },
   "outputs": [],
   "source": [
    "import numpy as np\n",
    "np.set_printoptions(precision=3, suppress=True)  #  suppress=Trueで指数表示禁止"
   ]
  },
  {
   "cell_type": "code",
   "execution_count": 20,
   "metadata": {},
   "outputs": [
    {
     "name": "stdout",
     "output_type": "stream",
     "text": [
      "[[  312.002    30.9      14.366     0.086]\n",
      " [  785.511    63.498    12.336     0.014]\n",
      " [  250.494   113.489    12.26      0.012]\n",
      " [  603.316   119.958    13.269     0.033]\n",
      " [  222.467   129.443    13.421     0.036]\n",
      " [  713.868   188.083    13.919     0.057]\n",
      " [  502.051   207.508    13.702     0.045]\n",
      " [  174.419   237.868    14.312     0.087]\n",
      " [   35.204   238.805    12.718     0.02 ]\n",
      " [  673.523   250.965    14.459     0.094]\n",
      " [  646.487   270.673    11.841     0.008]\n",
      " [  288.244   341.014    14.474     0.096]\n",
      " [  295.074   357.658    13.164     0.031]\n",
      " [  753.546   379.476    14.096     0.065]\n",
      " [  940.446   461.984    12.265     0.012]\n",
      " [  515.882   508.629    11.082     0.005]\n",
      " [  355.176   583.665    13.403     0.037]\n",
      " [  952.449   599.439    14.264     0.071]\n",
      " [  389.024   681.497    14.431     0.09 ]\n",
      " [   52.301   703.531    10.301     0.003]\n",
      " [  748.465   705.381    13.275     0.033]\n",
      " [  235.315   705.592    13.409     0.037]\n",
      " [   52.876   708.867    10.28      0.003]\n",
      " [  385.6     800.435    12.994     0.026]\n",
      " [  166.594   813.235    13.584     0.048]\n",
      " [  211.481   847.018    14.327     0.086]\n",
      " [   48.08    955.278    13.294     0.032]\n",
      " [  839.579   976.969    13.71      0.045]\n",
      " [ 1005.638   990.563    11.99      0.01 ]]\n"
     ]
    }
   ],
   "source": [
    "mlist = np.loadtxt('result2.txt')\n",
    "mlist[:, 2] = mlist[:, 2] + 0.788   #  3列目全てに0.788を足す \n",
    "print (mlist)"
   ]
  },
  {
   "cell_type": "code",
   "execution_count": 22,
   "metadata": {
    "collapsed": true
   },
   "outputs": [],
   "source": [
    "np.savetxt('result_calib.txt', mlist, fmt='%.3f')"
   ]
  },
  {
   "cell_type": "markdown",
   "metadata": {},
   "source": [
    "### 演習3  \n",
    "\n",
    "演習2で処理をしたtarget2のフレーム(例えばidf0020.fits)で測光をしてみましょう。  \n",
    "target2のフレームには標準星は写っていません。しかし、target1と近い時刻に観測をしているので、target1と同じ較正値が使えるものとしてください。\n",
    "\n",
    "\n",
    "\n"
   ]
  }
 ],
 "metadata": {
  "kernelspec": {
   "display_name": "Python 3",
   "language": "python",
   "name": "python3"
  },
  "language_info": {
   "codemirror_mode": {
    "name": "ipython",
    "version": 3
   },
   "file_extension": ".py",
   "mimetype": "text/x-python",
   "name": "python",
   "nbconvert_exporter": "python",
   "pygments_lexer": "ipython3",
   "version": "3.5.3"
  }
 },
 "nbformat": 4,
 "nbformat_minor": 2
}
