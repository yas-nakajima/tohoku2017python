{
 "cells": [
  {
   "cell_type": "markdown",
   "metadata": {},
   "source": [
    "## 講習3 --- 星の測光  \n",
    "\n",
    "点光源の明るさを測定してみます。ここでは、IRAFのAPPHOTを用いて、アパーチャ測光を行います。  \n"
   ]
  },
  {
   "cell_type": "markdown",
   "metadata": {},
   "source": [
    "### 星をひとつだけ選んで測光してみる  \n",
    "\n",
    "講習2で処理をしたidfs0011.fitsの、真ん中あたりの星の明るさを測ってみましょう。  \n",
    "\n",
    "#### 準備 \n",
    "- 星の位置を求めておく\n",
    "- 星のサイズ(fwhm)を求めておく\n",
    "- 背景のレベルとばらつきをもとめておく"
   ]
  },
  {
   "cell_type": "code",
   "execution_count": 1,
   "metadata": {},
   "outputs": [
    {
     "name": "stdout",
     "output_type": "stream",
     "text": [
      "Warning: sscanf library not installed on darwin\n"
     ]
    }
   ],
   "source": [
    "from pyraf import iraf"
   ]
  },
  {
   "cell_type": "code",
   "execution_count": 2,
   "metadata": {},
   "outputs": [
    {
     "name": "stdout",
     "output_type": "stream",
     "text": [
      "z1=-69.72522 z2=121.3847\n"
     ]
    }
   ],
   "source": [
    "iraf.display('idfs0011.fits')"
   ]
  },
  {
   "cell_type": "code",
   "execution_count": 3,
   "metadata": {},
   "outputs": [
    {
     "name": "stdout",
     "output_type": "stream",
     "text": [
      "#   COL    LINE   COORDINATES\n",
      "#     R    MAG    FLUX     SKY    PEAK    E   PA BETA ENCLOSED   MOFFAT DIRECT\n",
      " 515.88  508.70 515.88 508.70\n",
      "   8.15  12.54  95977.      0.   8892. 0.16   45 3.50     2.74     2.79   2.72\n",
      "#            SECTION     NPIX     MEAN   MEDIAN   STDDEV      MIN      MAX\n",
      "   [546:550,495:499]       25   -3.346       0.    18.52   -41.15    36.59\n",
      "   [545:549,532:536]       25    6.938       0.    27.31   -33.88     63.1\n",
      "   [493:497,540:544]       25    1.546       0.    28.95   -88.14    60.29\n",
      "   [475:479,497:501]       25 -0.09245       0.    18.24   -55.12    39.83\n"
     ]
    }
   ],
   "source": [
    "iraf.imexam()"
   ]
  },
  {
   "cell_type": "markdown",
   "metadata": {},
   "source": [
    "星の位置は(x, y) = (516, 509)で、fwhm=2.8、背景のレベルとばらつきは、0と20としておきましょう。 "
   ]
  },
  {
   "cell_type": "markdown",
   "metadata": {},
   "source": [
    "#### パラメータの設定  \n",
    "\n",
    "apphotモジュールをimportします。"
   ]
  },
  {
   "cell_type": "code",
   "execution_count": 4,
   "metadata": {
    "collapsed": true
   },
   "outputs": [],
   "source": [
    "from iraf import apphot"
   ]
  },
  {
   "cell_type": "markdown",
   "metadata": {},
   "source": [
    "login.cl の記載内容によっては、\n",
    "``` python \n",
    "from iraf import noao\n",
    "from iraf import digiphot\n",
    "``` \n",
    "も必要かもしれません。 \n",
    "\n",
    "次に、測光に必要なパラメータを設定します。  "
   ]
  },
  {
   "cell_type": "code",
   "execution_count": 5,
   "metadata": {
    "collapsed": true
   },
   "outputs": [],
   "source": [
    "med = 0.  #  背景レベルとばらつき、fwhm\n",
    "std = 20.\n",
    "fwhm = 2.8\n",
    "\n",
    "iraf.apphot.unlearn()  #  デフォルト値に戻しておく\n",
    "\n",
    "iraf.apphot.datapars.datamax = 20000  #  検出器に特有な値\n",
    "iraf.apphot.datapars.readnoise = 30 #  検出器に特有な値\n",
    "iraf.apphot.datapars.epadu = 5 #  検出器に特有な値\n",
    "iraf.apphot.datapars.itime = 5  # 積分時間 \n",
    "\n",
    "iraf.apphot.phot.interactive = 'no'  \n",
    "iraf.apphot.phot.verify = 'no'\n",
    "iraf.apphot.phot.verbose = 'no'\n",
    "iraf.apphot.photpars.zmag = 21  # 等級のゼロ点\n",
    "\n",
    "iraf.apphot.datapars.fwhmpsf = fwhm   #  fwhmで決まるパラメータ\n",
    "iraf.apphot.centerpars.cbox = max(5.0, fwhm)\n",
    "iraf.apphot.fitskypars.annulus = 3 * fwhm\n",
    "iraf.apphot.photpars.apertures = 3 * fwhm\n",
    "iraf.apphot.fitskypars.dannulus = 5.\n",
    "\n",
    "iraf.apphot.datapars.sigma = std  #  背景のレベルとばらつきで決まるパラメータ\n",
    "iraf.apphot.datapars.datamin = med - 5 * std"
   ]
  },
  {
   "cell_type": "markdown",
   "metadata": {},
   "source": [
    "星のおよその位置をテキストファイルに書き込んでおきます。これはテキストエディタで手動で書き込んでおきましょう。"
   ]
  },
  {
   "cell_type": "code",
   "execution_count": 6,
   "metadata": {},
   "outputs": [
    {
     "name": "stdout",
     "output_type": "stream",
     "text": [
      "516 509\r\n"
     ]
    }
   ],
   "source": [
    "cat coo.txt   #  catはファイルの中身を見るlinuxコマンド "
   ]
  },
  {
   "cell_type": "markdown",
   "metadata": {},
   "source": [
    "この座標ファイルを、**iraf.phot()**に読み込ませます。"
   ]
  },
  {
   "cell_type": "code",
   "execution_count": 7,
   "metadata": {
    "collapsed": true
   },
   "outputs": [],
   "source": [
    "iraf.phot('idfs0011.fits', coords='coo.txt', output='out0.mag')"
   ]
  },
  {
   "cell_type": "markdown",
   "metadata": {},
   "source": [
    "最初の引数は、測光する対象のFITSファイル名です。coords=で読み込ませる座標ファイルの名前、output=で結果を書き出すファイル名を指定します。  \n",
    "\n",
    "結果のファイルは、iraf.phot()固有の形式で書き出されています。"
   ]
  },
  {
   "cell_type": "code",
   "execution_count": 8,
   "metadata": {
    "collapsed": true,
    "scrolled": true
   },
   "outputs": [],
   "source": [
    "#cat 'out0.mag'   # githubでは長くなるのでコメントアウトしておきます"
   ]
  },
  {
   "cell_type": "markdown",
   "metadata": {},
   "source": [
    "通常、必要なのは、xcenter, ycenter, mag, merr です。**iraf.txdump()**を使って、それらだけを抜き出します。"
   ]
  },
  {
   "cell_type": "code",
   "execution_count": 8,
   "metadata": {},
   "outputs": [
    {
     "name": "stdout",
     "output_type": "stream",
     "text": [
      "515.881  508.628  10.301  0.005\n"
     ]
    }
   ],
   "source": [
    "iraf.txdump('out0.mag', fields='xc,yc,mag,merr')"
   ]
  },
  {
   "cell_type": "markdown",
   "metadata": {},
   "source": [
    "Stdout=でファイル名を指定すれば、そこに書き出してくれます。"
   ]
  },
  {
   "cell_type": "code",
   "execution_count": 9,
   "metadata": {
    "collapsed": true
   },
   "outputs": [],
   "source": [
    "iraf.txdump('out0.mag', fields='xc,yc,mag,merr', Stdout='result0.txt')"
   ]
  },
  {
   "cell_type": "markdown",
   "metadata": {},
   "source": [
    "これで、ひとつだけ選んだ星の機械等級がもとまりました。  \n",
    "\n",
    "### 視野の星を検出させて測光してみる\n",
    "\n",
    "この視野の他の星の明るさも測りたいときには、どうするのでしょうか。まさか、全ての星の位置について手動で座標ファイルを作成するわけにはいきません。**iraf.daofind()**を使います。背景の'ばらつき'よりも何倍明るい星だけを見つけろ、という指示を与えます。  \n",
    "\n",
    "上の測光に必要なパラメータ設定に加えて、次も設定してやります。"
   ]
  },
  {
   "cell_type": "code",
   "execution_count": 10,
   "metadata": {
    "collapsed": true
   },
   "outputs": [],
   "source": [
    "iraf.apphot.findpars.threshold = 7  #  7シグマ以上のものを検出せよ \n",
    "iraf.apphot.findpars.sharphi = 0.8  # 星っぽくないものを除くため\n",
    "\n",
    "iraf.apphot.daofind.output = 'out1.coo'  #  daofindの出力には、よく.cooという拡張子が使われる\n",
    "iraf.apphot.daofind.interac = 'no'\n",
    "iraf.apphot.daofind.verify = 'no'"
   ]
  },
  {
   "cell_type": "code",
   "execution_count": 11,
   "metadata": {
    "collapsed": true
   },
   "outputs": [],
   "source": [
    "iraf.daofind('idfs0011.fits')"
   ]
  },
  {
   "cell_type": "code",
   "execution_count": 12,
   "metadata": {
    "collapsed": true
   },
   "outputs": [],
   "source": [
    "#cat 'out1.coo'  # githubでは長くなるのでコメントアウトしておきます"
   ]
  },
  {
   "cell_type": "markdown",
   "metadata": {},
   "source": [
    "60個くらい星が検出されたようです。  \n",
    "先ほどと同様に、このファイルをiraf.phot()のcoords=で指定してやり、今度は結果をout1.magに出しましょう。"
   ]
  },
  {
   "cell_type": "code",
   "execution_count": 13,
   "metadata": {
    "collapsed": true
   },
   "outputs": [],
   "source": [
    "iraf.phot('idfs0011.fits', coords='out1.coo', output='out1.mag')"
   ]
  },
  {
   "cell_type": "code",
   "execution_count": 14,
   "metadata": {
    "scrolled": true
   },
   "outputs": [
    {
     "name": "stdout",
     "output_type": "stream",
     "text": [
      "312.046  30.898  13.601  0.085\n",
      "785.510  63.492  11.574  0.014\n",
      "640.120  75.714  14.393  0.178\n",
      "644.934  105.562  14.427  0.187\n",
      "250.493  113.488  11.479  0.013\n",
      "344.480  116.890  12.707  0.040\n",
      "603.322  119.941  12.490  0.034\n",
      "222.478  129.444  12.646  0.038\n",
      "630.258  176.196  14.349  0.173\n",
      "713.843  188.084  13.186  0.058\n",
      "502.040  207.513  12.989  0.047\n",
      "794.280  208.412  14.513  0.197\n",
      "948.199  235.360  14.279  0.170\n",
      "174.436  237.846  13.545  0.091\n",
      "35.209  238.813  11.926  0.020\n",
      "38.877  244.428  12.141  0.023\n",
      "673.529  250.964  13.739  0.100\n",
      "528.589  265.680  14.405  0.193\n",
      "598.709  265.575  13.992  0.119\n",
      "646.488  270.671  11.053  0.008\n",
      "239.394  299.812  INDEF  INDEF\n",
      "239.505  303.484  INDEF  INDEF\n",
      "760.526  321.709  14.770  0.267\n",
      "288.233  341.016  13.778  0.105\n",
      "295.068  357.660  12.372  0.030\n",
      "753.547  379.485  13.325  0.068\n",
      "755.767  401.980  14.476  0.195\n",
      "459.530  411.354  14.160  0.138\n",
      "94.762  455.335  13.767  0.102\n",
      "316.625  462.059  14.226  0.150\n",
      "940.450  461.986  11.483  0.012\n",
      "588.065  493.487  14.048  0.143\n",
      "515.881  508.628  10.301  0.005\n",
      "355.194  583.683  12.636  0.038\n",
      "952.469  599.430  13.609  0.083\n",
      "389.133  681.506  13.812  0.104\n",
      "957.599  694.458  14.117  0.130\n",
      "52.303  703.529  9.513  0.003\n",
      "748.463  705.380  12.562  0.036\n",
      "235.328  705.594  12.647  0.038\n",
      "52.875  708.866  9.492  0.003\n",
      "650.563  751.485  14.596  0.204\n",
      "425.529  781.090  INDEF  INDEF\n",
      "291.580  783.329  13.845  0.117\n",
      "986.776  784.494  13.919  0.118\n",
      "421.138  786.516  INDEF  INDEF\n",
      "427.249  787.270  INDEF  INDEF\n",
      "420.238  795.310  INDEF  INDEF\n",
      "429.701  792.182  INDEF  INDEF\n",
      "385.599  800.438  12.231  0.026\n",
      "166.601  813.226  12.840  0.051\n",
      "211.496  847.058  13.677  0.097\n",
      "142.942  898.415  INDEF  INDEF\n",
      "142.942  898.415  INDEF  INDEF\n",
      "146.732  901.939  INDEF  INDEF\n",
      "582.429  902.255  14.514  0.198\n",
      "143.463  902.528  INDEF  INDEF\n",
      "48.096  955.290  12.543  0.034\n",
      "210.611  976.332  14.038  0.128\n",
      "839.577  976.986  12.977  0.049\n",
      "1005.639  990.564  11.203  0.010\n"
     ]
    }
   ],
   "source": [
    "iraf.txdump('out1.mag', fields='xc,yc,mag,merr')"
   ]
  },
  {
   "cell_type": "markdown",
   "metadata": {},
   "source": [
    "INDEFなんてのもあります。これは、たまたまバッドピクセルが測光領域に含まれていた、あるいは、サチった星です。  \n",
    "測光誤差を(例えば)0.2等以下のものだけに絞ることで、INDEFのものも削除できます。  "
   ]
  },
  {
   "cell_type": "code",
   "execution_count": 15,
   "metadata": {
    "collapsed": true
   },
   "outputs": [],
   "source": [
    "iraf.txdump('out1.mag', fields='xc,yc,mag,merr', expr='merr < 0.2', Stdout='result1.txt')"
   ]
  },
  {
   "cell_type": "code",
   "execution_count": 16,
   "metadata": {},
   "outputs": [
    {
     "name": "stdout",
     "output_type": "stream",
     "text": [
      "312.046  30.898  13.601  0.085\r\n",
      "785.510  63.492  11.574  0.014\r\n",
      "640.120  75.714  14.393  0.178\r\n",
      "644.934  105.562  14.427  0.187\r\n",
      "250.493  113.488  11.479  0.013\r\n",
      "344.480  116.890  12.707  0.040\r\n",
      "603.322  119.941  12.490  0.034\r\n",
      "222.478  129.444  12.646  0.038\r\n",
      "630.258  176.196  14.349  0.173\r\n",
      "713.843  188.084  13.186  0.058\r\n"
     ]
    }
   ],
   "source": [
    "!head -n 10 result1.txt   #  一般的なlinuxコマンドは!をつけて実行可能 "
   ]
  },
  {
   "cell_type": "markdown",
   "metadata": {},
   "source": [
    "### 測光値の較正  \n",
    "\n",
    "ここで求まったものは、機械等級です。等級のゼロ点を適当に設定したものです。 \n",
    "どうやって本当の等級に直せば良いでしょうか。  \n",
    "\n",
    "実は、target1の真ん中の星は標準星といって、明るさのわかっている星です。  \n",
    "Persson et al. (1998)のNo.9182の星で、Hバンドでの等級は H=11.082(0.010)です。  \n",
    "\n",
    "この標準星の機械等級が10.301と求められたので、"
   ]
  },
  {
   "cell_type": "code",
   "execution_count": 17,
   "metadata": {},
   "outputs": [
    {
     "data": {
      "text/plain": [
       "0.7810000000000006"
      ]
     },
     "execution_count": 17,
     "metadata": {},
     "output_type": "execute_result"
    }
   ],
   "source": [
    "11.082 - 10.301"
   ]
  },
  {
   "cell_type": "markdown",
   "metadata": {},
   "source": [
    "result1.txtの全ての星の等級に + 0.781足せば較正ができたことになります。  \n",
    "\n",
    "テキストファイルの読み込みとそのデータの加工には、いくつか方法がありますが、\n",
    "ここでは、**numpy**を使っちゃいます。numpyは次の講習ではじめて扱うのですが、非常に簡単にプログラムが書けるので敢えて使います。(numpyを使わない基本的なpythonのファイル読み書きは下の補足に記しました。)"
   ]
  },
  {
   "cell_type": "code",
   "execution_count": 18,
   "metadata": {
    "collapsed": true
   },
   "outputs": [],
   "source": [
    "import numpy as np\n",
    "np.set_printoptions(precision=3, suppress=True)  #  suppress=Trueで指数表示禁止。この行は必須ではない。"
   ]
  },
  {
   "cell_type": "markdown",
   "metadata": {},
   "source": [
    "**np.loadtxt()**関数を使って、result1.txtを読み込みます。数値のみのテーブル(列の数が揃っている)であればnp.loadtxt()が使えます。"
   ]
  },
  {
   "cell_type": "code",
   "execution_count": 19,
   "metadata": {
    "scrolled": true
   },
   "outputs": [
    {
     "name": "stdout",
     "output_type": "stream",
     "text": [
      "[[  312.046    30.898    14.382     0.085]\n",
      " [  785.51     63.492    12.355     0.014]\n",
      " [  640.12     75.714    15.174     0.178]\n",
      " [  644.934   105.562    15.208     0.187]\n",
      " [  250.493   113.488    12.26      0.013]\n",
      " [  344.48    116.89     13.488     0.04 ]\n",
      " [  603.322   119.941    13.271     0.034]\n",
      " [  222.478   129.444    13.427     0.038]\n",
      " [  630.258   176.196    15.13      0.173]\n",
      " [  713.843   188.084    13.967     0.058]\n",
      " [  502.04    207.513    13.77      0.047]\n",
      " [  794.28    208.412    15.294     0.197]\n",
      " [  948.199   235.36     15.06      0.17 ]\n",
      " [  174.436   237.846    14.326     0.091]\n",
      " [   35.209   238.813    12.707     0.02 ]\n",
      " [   38.877   244.428    12.922     0.023]\n",
      " [  673.529   250.964    14.52      0.1  ]\n",
      " [  528.589   265.68     15.186     0.193]\n",
      " [  598.709   265.575    14.773     0.119]\n",
      " [  646.488   270.671    11.834     0.008]\n",
      " [  288.233   341.016    14.559     0.105]\n",
      " [  295.068   357.66     13.153     0.03 ]\n",
      " [  753.547   379.485    14.106     0.068]\n",
      " [  755.767   401.98     15.257     0.195]\n",
      " [  459.53    411.354    14.941     0.138]\n",
      " [   94.762   455.335    14.548     0.102]\n",
      " [  316.625   462.059    15.007     0.15 ]\n",
      " [  940.45    461.986    12.264     0.012]\n",
      " [  588.065   493.487    14.829     0.143]\n",
      " [  515.881   508.628    11.082     0.005]\n",
      " [  355.194   583.683    13.417     0.038]\n",
      " [  952.469   599.43     14.39      0.083]\n",
      " [  389.133   681.506    14.593     0.104]\n",
      " [  957.599   694.458    14.898     0.13 ]\n",
      " [   52.303   703.529    10.294     0.003]\n",
      " [  748.463   705.38     13.343     0.036]\n",
      " [  235.328   705.594    13.428     0.038]\n",
      " [   52.875   708.866    10.273     0.003]\n",
      " [  291.58    783.329    14.626     0.117]\n",
      " [  986.776   784.494    14.7       0.118]\n",
      " [  385.599   800.438    13.012     0.026]\n",
      " [  166.601   813.226    13.621     0.051]\n",
      " [  211.496   847.058    14.458     0.097]\n",
      " [  582.429   902.255    15.295     0.198]\n",
      " [   48.096   955.29     13.324     0.034]\n",
      " [  210.611   976.332    14.819     0.128]\n",
      " [  839.577   976.986    13.758     0.049]\n",
      " [ 1005.639   990.564    11.984     0.01 ]]\n"
     ]
    }
   ],
   "source": [
    "mlist = np.loadtxt('result1.txt')\n",
    "mlist[:, 2] = mlist[:, 2] + 0.781 #  3列目全てに0.781を足す \n",
    "print (mlist)"
   ]
  },
  {
   "cell_type": "markdown",
   "metadata": {},
   "source": [
    "np.savetxt()関数で、テキストファイルに結果を保存します。fmtはフォーマットの指定です。"
   ]
  },
  {
   "cell_type": "code",
   "execution_count": 20,
   "metadata": {
    "collapsed": true
   },
   "outputs": [],
   "source": [
    "np.savetxt('result1calib.txt', mlist, fmt='%.3f')"
   ]
  },
  {
   "cell_type": "markdown",
   "metadata": {},
   "source": [
    "**_補足_**   \n",
    "numpyを使わなくても、pythonの基本的な機能を使って、ファイルの読み出し、加工、書き出しができます。"
   ]
  },
  {
   "cell_type": "code",
   "execution_count": 21,
   "metadata": {
    "collapsed": true
   },
   "outputs": [],
   "source": [
    "with open('out_test.txt', 'w') as fout: # out_test.txtを書き出し先ファイルとする\n",
    "    with open('result1.txt') as fin:  #  result1.txtを開く \n",
    "        for line in fin:  #  1行づつ読み込み \n",
    "            v = line.rstrip().split()  #  rstrip()で改行コードを削除し、split()で空白文字で行を分割\n",
    "            mag = float(v[2]) + 0.781  #  等級は3列目なので、それをfloatに変換して0.781を足す\n",
    "            print (v[0], v[1], mag, v[3], file=fout) #  書き出し"
   ]
  },
  {
   "cell_type": "markdown",
   "metadata": {},
   "source": [
    "### 演習3  \n",
    "\n",
    "演習2で処理をしたtarget2のフレーム(例えばidfs0020.fits)で測光をしてみましょう。  \n",
    "target2のフレームには標準星は写っていません。しかし、target1と近い時刻に観測をしているので、target1と同じ較正値が使えるものとしてください。\n",
    "\n",
    "\n"
   ]
  }
 ],
 "metadata": {
  "kernelspec": {
   "display_name": "Python 3",
   "language": "python",
   "name": "python3"
  },
  "language_info": {
   "codemirror_mode": {
    "name": "ipython",
    "version": 3
   },
   "file_extension": ".py",
   "mimetype": "text/x-python",
   "name": "python",
   "nbconvert_exporter": "python",
   "pygments_lexer": "ipython3",
   "version": "3.5.3"
  }
 },
 "nbformat": 4,
 "nbformat_minor": 2
}
