{
 "cells": [
  {
   "cell_type": "markdown",
   "metadata": {},
   "source": [
    "### pyrafのための準備\n",
    "\n",
    "pythonからIRAFを使うにはpyrafを利用します。  \n",
    "pyrafを(便利に)使うためには、  \n",
    "\n",
    "- ホームディレクトリにirafというディレクトリを作成\n",
    "- そのディレクトリ内で mkirafを実行し、login.cl を作成\n",
    "- 必要に応じてそのlogin.clを編集 \n",
    "\n",
    "をしておきます。 こうしておくと、login.clでの設定がpyraf利用時に反映されます。また、~/iraf/uparm/に各タスク(imexam, imstatなど)のパラメータが保存されます。　　\n",
    "\n",
    "### モジュールの読み込み"
   ]
  },
  {
   "cell_type": "code",
   "execution_count": 2,
   "metadata": {},
   "outputs": [],
   "source": [
    "from pyraf import iraf "
   ]
  },
  {
   "cell_type": "markdown",
   "metadata": {},
   "source": [
    "### iraf.displayを使って、ds9にFITSを表示  \n",
    "ターミナルから、ds9を起動しておきます。   \n",
    "そして次のコマンドを実行します。  "
   ]
  },
  {
   "cell_type": "code",
   "execution_count": 3,
   "metadata": {},
   "outputs": [
    {
     "name": "stdout",
     "output_type": "stream",
     "text": [
      "z1=977.7808 z2=1139.195\n"
     ]
    }
   ],
   "source": [
    "iraf.display('hf0001.fits')"
   ]
  }
 ],
 "metadata": {
  "kernelspec": {
   "display_name": "Python 3",
   "language": "python",
   "name": "python3"
  },
  "language_info": {
   "codemirror_mode": {
    "name": "ipython",
    "version": 3
   },
   "file_extension": ".py",
   "mimetype": "text/x-python",
   "name": "python",
   "nbconvert_exporter": "python",
   "pygments_lexer": "ipython3",
   "version": "3.5.3"
  }
 },
 "nbformat": 4,
 "nbformat_minor": 2
}
