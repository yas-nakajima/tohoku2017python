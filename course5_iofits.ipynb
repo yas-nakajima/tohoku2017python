{
 "cells": [
  {
   "cell_type": "markdown",
   "metadata": {},
   "source": [
    "### 講習5 --- astropy.io.fitsの基本  \n",
    "\n",
    "FITSデータの読み書きが可能なモジュールです。 元々、pyfitsと呼ばれていたものです。astropyに吸収されてそちらで統一的に管理されるようです。\n",
    "\n",
    "PyRAFでもFITSデータの読み書きはできるのですが、ndarrayとしてデータを読み出しておくとより自由な処理を行うことができます。例えば、IRAFには存在しない統計アルゴリズムを適用する、あるいは、matplotlibを用いた自由度の高い可視化などです。  \n",
    "\n",
    "まずastropy.ioからfitsをimportしておきます。"
   ]
  },
  {
   "cell_type": "code",
   "execution_count": 1,
   "metadata": {
    "collapsed": true
   },
   "outputs": [],
   "source": [
    "from astropy.io import fits"
   ]
  },
  {
   "cell_type": "markdown",
   "metadata": {},
   "source": [
    "#### 基本のgetdata\n",
    "まずは簡単なデータ読み出し方法。 **fits.getdata( )**です。 ピクセル値をndarrayとして読み出します。"
   ]
  },
  {
   "cell_type": "code",
   "execution_count": 2,
   "metadata": {
    "collapsed": true
   },
   "outputs": [],
   "source": [
    "data = fits.getdata('idf0011.fits')"
   ]
  },
  {
   "cell_type": "code",
   "execution_count": 3,
   "metadata": {},
   "outputs": [
    {
     "data": {
      "text/plain": [
       "array([[ 37.63891602,   0.        ,   0.        , ...,  16.13916016,\n",
       "         20.58654785,  12.05041504],\n",
       "       [ -8.29736328,   0.        ,  42.11193848, ...,   0.94616699,\n",
       "          3.57092285,   6.35217285],\n",
       "       [  1.85791016,   0.        ,  11.20837402, ...,  17.1328125 ,\n",
       "         13.16650391,  -2.81518555],\n",
       "       ..., \n",
       "       [-13.7175293 ,   0.        ,  47.6862793 , ...,   0.        ,\n",
       "        -21.03918457,  15.2722168 ],\n",
       "       [ 17.33740234,  27.43493652, -20.22363281, ...,   0.        ,\n",
       "         -2.67407227,  12.81750488],\n",
       "       [  6.32019043,  18.85083008, -27.16552734, ...,  27.34533691,\n",
       "         -8.68847656,   0.        ]], dtype=float32)"
      ]
     },
     "execution_count": 3,
     "metadata": {},
     "output_type": "execute_result"
    }
   ],
   "source": [
    "data"
   ]
  },
  {
   "cell_type": "markdown",
   "metadata": {},
   "source": [
    "特定のピクセルの値を書き出してみます。"
   ]
  },
  {
   "cell_type": "code",
   "execution_count": 4,
   "metadata": {},
   "outputs": [
    {
     "name": "stdout",
     "output_type": "stream",
     "text": [
      "32.5959\n"
     ]
    }
   ],
   "source": [
    "print (data[0, 5])"
   ]
  },
  {
   "cell_type": "markdown",
   "metadata": {},
   "source": [
    "これは(x, y) = (6, 1)のピクセルであることに注意してください。\n",
    "- Pythonではインデックスは0から始まる\n",
    "- numpyのndarrayではFITSの二次元データは(y, x)の順\n",
    "\n",
    "idf0011.fitsをds9で直接オープンして、(6, 1)のピクセル値を読み取って確認してみてください。(ds9のメニューバーのanalysis>pixel table を使うと便利です。)"
   ]
  },
  {
   "cell_type": "markdown",
   "metadata": {},
   "source": [
    "#### numpyの関数で処理\n",
    "\n",
    "FITSの二次元データはndarrayとして読み出されるので、numpyの関数が使えます。"
   ]
  },
  {
   "cell_type": "code",
   "execution_count": 5,
   "metadata": {
    "collapsed": true
   },
   "outputs": [],
   "source": [
    "import numpy as np"
   ]
  },
  {
   "cell_type": "code",
   "execution_count": 6,
   "metadata": {},
   "outputs": [
    {
     "data": {
      "text/plain": [
       "(2.8615723, 199.40004, -82570.391, 47768.0)"
      ]
     },
     "execution_count": 6,
     "metadata": {},
     "output_type": "execute_result"
    }
   ],
   "source": [
    "np.median(data), np.std(data), np.min(data), np.max(data)"
   ]
  },
  {
   "cell_type": "markdown",
   "metadata": {},
   "source": [
    "#### _補足_\n",
    "上限値と下限値を適切に設定し、3-sigmaクリッップすると標準偏差がもう少し小さくなります。\n"
   ]
  },
  {
   "cell_type": "code",
   "execution_count": 7,
   "metadata": {},
   "outputs": [
    {
     "name": "stdout",
     "output_type": "stream",
     "text": [
      "2.79 20.26\n"
     ]
    }
   ],
   "source": [
    "xx = np.where(np.fabs(data) < 1000)  #  値が+/-1000以内のところだけ抽出\n",
    "med = np.median(data[xx])\n",
    "std = np.std(data[xx])\n",
    "\n",
    "xx = np.where(np.fabs(data - med)  < 3 * std)  #  3-sigma clip\n",
    "med = np.median(data[xx])\n",
    "std = np.std(data[xx])\n",
    "print ('{:.2f} {:.2f}'.format(med, std))   #   format()関数使ってみた\n"
   ]
  },
  {
   "cell_type": "markdown",
   "metadata": {
    "collapsed": true
   },
   "source": [
    "#### データの加工  \n",
    "\n",
    "IRAFは長期間にわたって多くの人たちに利用されてきたので、プログラムのバグがかなり修正されてきています。\n",
    "こういうのを、いい意味で「枯れたシステム」ということがあります。\n",
    "枯れたシステムのIRAFの関数はとてもありがたい存在なのですが、画像の足し算、引き算、割り算くらいなら、\n",
    "IRAFを介さずにpythonのモジュールだけで済ませるほうが便利なことが多いです。  \n",
    "\n",
    "astropy.io.fitsでFITSをndarrayとして読み取り、講習2で行った1次処理のダーク引き、フラット割り、スカイバイアス引きの部分を、\n",
    "ndarrayの演算として行ってみます。 "
   ]
  },
  {
   "cell_type": "code",
   "execution_count": 8,
   "metadata": {
    "collapsed": true
   },
   "outputs": [],
   "source": [
    "rdata = fits.getdata('sample_data2/ir0011.fits')\n",
    "dark = fits.getdata('dark5.fits')\n",
    "flat = fits.getdata('flat.fits')\n",
    "skybias = fits.getdata('skybias.fits')"
   ]
  },
  {
   "cell_type": "markdown",
   "metadata": {},
   "source": [
    "0での割り算に注意します。IRAFでは何か裏で工夫してたのですが、ここでは明示して処理しておきます。  \n",
    "ピクセル値が0のところを-9999におきかえます。"
   ]
  },
  {
   "cell_type": "code",
   "execution_count": 9,
   "metadata": {
    "collapsed": true
   },
   "outputs": [],
   "source": [
    "xx = np.where( np.abs(flat) == 0.0 ) \n",
    "flat[xx] = -9999."
   ]
  },
  {
   "cell_type": "markdown",
   "metadata": {},
   "source": [
    "IRAFの場合と違い、一行で処理の式が書けます。また、途中の暫定的なファイルを介在せずに処理ができます。"
   ]
  },
  {
   "cell_type": "code",
   "execution_count": 10,
   "metadata": {
    "collapsed": true
   },
   "outputs": [],
   "source": [
    "ndata= ( rdata - dark ) / flat - skybias"
   ]
  },
  {
   "cell_type": "markdown",
   "metadata": {},
   "source": [
    "結果をファイルに書き出すときには、**fits.writeto()**関数を使います。  \n",
    "**fits.writeto('ファイル名.fits', ndarrayデータ)** "
   ]
  },
  {
   "cell_type": "code",
   "execution_count": 11,
   "metadata": {
    "collapsed": true
   },
   "outputs": [],
   "source": [
    "fits.writeto('new0011.fits', ndata)"
   ]
  },
  {
   "cell_type": "markdown",
   "metadata": {},
   "source": [
    "はたして、idf0011.fitsと同じでしょうか？  ds9で見比べてみてください。\n",
    "\n",
    "あるいは、ちゃんと比較するには、(idf0011.fitsのデータは上でdataとして読み込んでいるので）、dataとndataの差分の統計をみてみましょう。"
   ]
  },
  {
   "cell_type": "code",
   "execution_count": 12,
   "metadata": {
    "collapsed": true
   },
   "outputs": [],
   "source": [
    "diff = data - ndata"
   ]
  },
  {
   "cell_type": "code",
   "execution_count": 14,
   "metadata": {},
   "outputs": [
    {
     "data": {
      "text/plain": [
       "(0.0, 2.7136393e-06)"
      ]
     },
     "execution_count": 14,
     "metadata": {},
     "output_type": "execute_result"
    }
   ],
   "source": [
    "np.median(diff), np.std(diff)"
   ]
  },
  {
   "cell_type": "markdown",
   "metadata": {},
   "source": [
    "IRAFで処理したものも、非IRAFで処理したものも同じ結果が得られたようですね。"
   ]
  }
 ],
 "metadata": {
  "kernelspec": {
   "display_name": "Python 3",
   "language": "python",
   "name": "python3"
  },
  "language_info": {
   "codemirror_mode": {
    "name": "ipython",
    "version": 3
   },
   "file_extension": ".py",
   "mimetype": "text/x-python",
   "name": "python",
   "nbconvert_exporter": "python",
   "pygments_lexer": "ipython3",
   "version": "3.5.3"
  }
 },
 "nbformat": 4,
 "nbformat_minor": 2
}
