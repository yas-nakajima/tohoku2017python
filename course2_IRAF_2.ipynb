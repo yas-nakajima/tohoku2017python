{
 "cells": [
  {
   "cell_type": "markdown",
   "metadata": {},
   "source": [
    "## 講習2 --- IRAFで1次処理\n",
    "\n",
    "IRAFのタスクを使って、**１次処理**(生データからダークを引き、それをフラットで割り、スカイバイアスを引く) を行ってみましょう。  \n",
    "\n",
    "ここでは、IRAFの基本タスク、imarith, imcombineを使います。  \n",
    "\n",
    "通常、近赤外線観測ではそのあとにregistration(複数枚のイメージの位置合わせ)をしてスタックするという作業までして1次処理なのですが、ここでは時間の関係上省略します。(appendixとして資料を追加します。)  \n",
    "\n",
    "### サンプルデータ\n",
    "\n",
    "sample_data2　のディレクトリの中には、サンプルの生データセットがあります。  \n",
    "FITSファイルの名前は  **ir[4桁のフレーム番号].fits** となっています。  \n",
    "\n",
    "| フレーム番号| オブジェクト | 積分時間   (1枚あたり) |  \n",
    "| :-: | :- | :- |\n",
    "|0001-0005 |  dome_flat_off  | 5秒 |\n",
    "|0006-0010 | dome_flat_on  | 5秒|\n",
    "|0011-0019 | target1  | 5秒 |   \n",
    "|0020-0028 | target2  | 10秒  | \n",
    "|0029-0033 | dark  | 5秒  |\n",
    "|0034-0038 | dark  | 10秒 |\n",
    "\n",
    "フラット補正用のデータを、ドームフラットをランプをONとOFFでそれぞれ5枚1セットで取得しています。  \n",
    "天体については2天体をそれぞれディザリングして9枚づつ取得しています。  \n",
    "最後にダークフレームを5秒と10秒をそれぞれ5枚づつ取得しています。(ダークフレームは、天体の観測に使用した積分時間に対応するものが必要です。)\n"
   ]
  },
  {
   "cell_type": "markdown",
   "metadata": {},
   "source": [
    "### target1の1次処理  \n",
    "\n",
    "ここでは、target1を対象として、1次処理を行ってみます。  \n",
    "\n",
    "\n",
    "#### ダーク補正用フレームの作成\n",
    "\n",
    "「生データからダークを引き」のダークは、通常、複数枚(10枚程度)のダークの平均(メジアン)から作成するダーク補正用フレームを指します。  \n",
    "平均(メジアン)をとることで、もっともらしいダーク補正用フレームを作成します。S/Nの良いフレームとなり、平均(メジアン)をとることで、偶然読み出しが変なフレームが混ざっていても、その影響を無しに、あるいは小さくすることができます。  \n",
    "\n",
    "#### iraf.imcombine \n",
    "\n",
    "irafのimcombineがまさに、複数枚のフレームの平均を作成するためのタスクです。  \n"
   ]
  },
  {
   "cell_type": "code",
   "execution_count": null,
   "metadata": {
    "collapsed": true
   },
   "outputs": [],
   "source": []
  },
  {
   "cell_type": "code",
   "execution_count": null,
   "metadata": {
    "collapsed": true
   },
   "outputs": [],
   "source": []
  },
  {
   "cell_type": "code",
   "execution_count": null,
   "metadata": {
    "collapsed": true
   },
   "outputs": [],
   "source": []
  }
 ],
 "metadata": {
  "kernelspec": {
   "display_name": "Python 3",
   "language": "python",
   "name": "python3"
  },
  "language_info": {
   "codemirror_mode": {
    "name": "ipython",
    "version": 3
   },
   "file_extension": ".py",
   "mimetype": "text/x-python",
   "name": "python",
   "nbconvert_exporter": "python",
   "pygments_lexer": "ipython3",
   "version": "3.5.3"
  }
 },
 "nbformat": 4,
 "nbformat_minor": 2
}
