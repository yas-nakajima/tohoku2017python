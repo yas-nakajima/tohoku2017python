{
 "cells": [
  {
   "cell_type": "markdown",
   "metadata": {},
   "source": [
    "## 講習2 --- IRAFで1次処理\n",
    "\n",
    "IRAFのタスクを使って、**１次処理**(生データからダークを引き、それをフラットで割り、スカイバイアスを引く) を行ってみましょう。  \n",
    "\n",
    "ここでは、IRAFの基本タスク、imarith, imcombineを使います。  \n",
    "\n",
    "通常、近赤外線観測ではそのあとにregistration(複数枚のイメージの位置合わせ)をしてスタックするという作業までして1次処理なのですが、ここでは時間の関係上省略します。(appendixとして資料を追加します。)  \n",
    "\n",
    "### サンプルデータ\n",
    "\n",
    "sample_data2　のディレクトリの中には、サンプルの生データセットがあります。  \n",
    "南アフリカIRSF望遠鏡のSIRIUSのHバンドのデータです。  \n",
    "FITSファイルの名前は  **ir[4桁のフレーム番号].fits** となっています。  (SIRIUSのオリジナルのファイル名から変更しています)\n",
    "\n",
    "| フレーム番号| オブジェクト | 積分時間   (1枚あたり) |  \n",
    "| :-: | :- | :- |\n",
    "|0001-0005 |  dome_flat_off  | 5秒 |\n",
    "|0006-0010 | dome_flat_on  | 5秒|\n",
    "|0011-0019 | target1  | 5秒 |   \n",
    "|0020-0028 | target2  | 10秒  | \n",
    "|0029-0033 | dark  | 5秒  |\n",
    "|0034-0038 | dark  | 10秒 |\n",
    "\n",
    "フラット補正用のデータを、ドームフラットをランプをONとOFFでそれぞれ5枚1セットで取得しています。  \n",
    "天体については2天体をそれぞれディザリングして9枚づつ取得しています。  \n",
    "最後にダークフレームを5秒と10秒をそれぞれ5枚づつ取得しています。(ダークフレームは、天体の観測に使用した積分時間に対応するものが必要です。)\n"
   ]
  },
  {
   "cell_type": "markdown",
   "metadata": {},
   "source": [
    "### target1の1次処理  \n",
    "\n",
    "ここでは、target1を対象として、1次処理を行ってみます。  \n",
    "\n",
    "\n",
    "#### ダーク補正用フレームの作成\n",
    "\n",
    "「生データからダークを引き」のダークは、通常、複数枚(10枚程度)のダークの平均(メジアン)から作成するダーク補正用フレームを指します。  \n",
    "平均(メジアン)をとることで、もっともらしいダーク補正用フレームを作成します。S/Nの良いフレームとなり、平均(メジアン)をとることで、偶然読み出しが変なフレームが混ざっていても、その影響を無しに、あるいは小さくすることができます。  \n",
    "\n",
    "#### iraf.imcombine \n",
    "\n",
    "irafのimcombineがまさに、複数枚のフレームの平均を作成するためのタスクです。  \n"
   ]
  },
  {
   "cell_type": "code",
   "execution_count": 1,
   "metadata": {},
   "outputs": [
    {
     "name": "stdout",
     "output_type": "stream",
     "text": [
      "Warning: sscanf library not installed on darwin\n"
     ]
    }
   ],
   "source": [
    "from pyraf import iraf"
   ]
  },
  {
   "cell_type": "code",
   "execution_count": 20,
   "metadata": {
    "collapsed": true
   },
   "outputs": [],
   "source": [
    "iraf.imcombine.unlearn()"
   ]
  },
  {
   "cell_type": "markdown",
   "metadata": {},
   "source": [
    "ファイル名をカンマ区切りで並べた文字列をinputとして与えます。するとこれらのファイルをスタックして平均を計算してくれます。"
   ]
  },
  {
   "cell_type": "code",
   "execution_count": 26,
   "metadata": {},
   "outputs": [],
   "source": [
    "iraf.imcombine.input = 'sample_data2/ir0029.fits, sample_data2/ir0030.fits, ' + \\  # 長いので折り返し\n",
    "    'sample_data2/ir0031.fits, sample_data2/ir0032.fits, sample_data2/ir0033.fits'"
   ]
  },
  {
   "cell_type": "markdown",
   "metadata": {},
   "source": [
    "出力先ファイル名をdark5.fitsとし、medianで平均をとります。"
   ]
  },
  {
   "cell_type": "code",
   "execution_count": 27,
   "metadata": {},
   "outputs": [
    {
     "name": "stdout",
     "output_type": "stream",
     "text": [
      "\n",
      "Jul 21 18:16: IMCOMBINE\n",
      "  combine = median, scale = none, zero = none, weight = none\n",
      "  blank = 0.\n",
      "                Images \n",
      "  sample_data2/ir0029.fits\n",
      "  sample_data2/ir0030.fits\n",
      "  sample_data2/ir0031.fits\n",
      "  sample_data2/ir0032.fits\n",
      "  sample_data2/ir0033.fits\n",
      "\n",
      "  Output image = dark5.fits, ncombine = 5\n"
     ]
    }
   ],
   "source": [
    "iraf.imcombine(output='dark5.fits', combine='median')  "
   ]
  },
  {
   "cell_type": "markdown",
   "metadata": {},
   "source": [
    "### おまけ  \n",
    "'sample_data2/ir0029.fits, sample_data2/ir0030.fits, sample_data2/ir0031.fits, sample_data2/ir0032.fits, sample_data2/ir0033.fits' って長いですよね。ここでは5つのファイルだけでしたが、もっと長くなることだってありえます。  \n",
    "下のように、globを利用して、こんなふうに該当する文字列を作成することができます。"
   ]
  },
  {
   "cell_type": "code",
   "execution_count": 18,
   "metadata": {},
   "outputs": [],
   "source": [
    "comstr = '' \n",
    "for item in glob.glob('sample_data2/*.fits'):\n",
    "    if 29 <= int(item[-7:-5])  <= 33:  #  4桁の番号の最後の二桁\n",
    "        comstr += item + ',' "
   ]
  },
  {
   "cell_type": "code",
   "execution_count": 30,
   "metadata": {},
   "outputs": [
    {
     "data": {
      "text/plain": [
       "'sample_data2/ir0029.fits,sample_data2/ir0030.fits,sample_data2/ir0031.fits,sample_data2/ir0032.fits,sample_data2/ir0033.fits'"
      ]
     },
     "execution_count": 30,
     "metadata": {},
     "output_type": "execute_result"
    }
   ],
   "source": [
    "comstr[:-1]  # 末尾の , を削除"
   ]
  },
  {
   "cell_type": "code",
   "execution_count": 28,
   "metadata": {},
   "outputs": [],
   "source": [
    "#iraf.help('imcombine')"
   ]
  },
  {
   "cell_type": "code",
   "execution_count": null,
   "metadata": {
    "collapsed": true
   },
   "outputs": [],
   "source": []
  },
  {
   "cell_type": "code",
   "execution_count": null,
   "metadata": {
    "collapsed": true
   },
   "outputs": [],
   "source": []
  }
 ],
 "metadata": {
  "kernelspec": {
   "display_name": "Python 3",
   "language": "python",
   "name": "python3"
  },
  "language_info": {
   "codemirror_mode": {
    "name": "ipython",
    "version": 3
   },
   "file_extension": ".py",
   "mimetype": "text/x-python",
   "name": "python",
   "nbconvert_exporter": "python",
   "pygments_lexer": "ipython3",
   "version": "3.5.3"
  }
 },
 "nbformat": 4,
 "nbformat_minor": 2
}
