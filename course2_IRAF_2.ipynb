{
 "cells": [
  {
   "cell_type": "markdown",
   "metadata": {},
   "source": [
    "## 講習2 --- IRAFで1次処理\n",
    "\n",
    "IRAFのタスクを使って、**１次処理**(生データからダークを引き、それをフラットで割り、スカイバイアスを引く) を行ってみましょう。  \n",
    "\n",
    "ここでは、IRAFの基本タスク、**imarith**, **imcombine**を使います。  \n",
    "\n",
    "通常、近赤外線観測ではそのあとにregistration(複数枚のイメージの位置合わせ)をしてスタックするという作業までして1次処理なのですが、ここでは時間の関係上省略します。 \n",
    "\n",
    "### サンプルデータ\n",
    "\n",
    "sample_data2　のディレクトリの中には、サンプルの生データセットがあります。  \n",
    "南アフリカIRSF望遠鏡のSIRIUSのHバンドのデータです。  \n",
    "FITSファイルの名前は  **ir[4桁のフレーム番号].fits** となっています。  (SIRIUSのオリジナルのファイル名から変更しています)\n",
    "\n",
    "| フレーム番号| オブジェクト | 積分時間   (1枚あたり) |  \n",
    "| :-: | :- | :- |\n",
    "|0001-0005 |  dome_flat_off  | 5秒 |\n",
    "|0006-0010 | dome_flat_on  | 5秒|\n",
    "|0011-0019 | target1  | 5秒 |   \n",
    "|0020-0028 | target2  | 10秒  | \n",
    "|0029-0033 | dark  | 5秒  |\n",
    "|0034-0038 | dark  | 10秒 |\n",
    "\n",
    "フラット補正用のデータを、ドームフラットをランプをONとOFFでそれぞれ5枚1セットで取得しています。  \n",
    "天体については2天体をそれぞれディザリングして9枚づつ取得しています。  \n",
    "最後にダークフレームを5秒と10秒をそれぞれ5枚づつ取得しています。(ダークフレームは、天体の観測に使用した積分時間に対応するものが必要です。)\n"
   ]
  },
  {
   "cell_type": "markdown",
   "metadata": {},
   "source": [
    "### target1の1次処理  \n",
    "\n",
    "ここでは、target1を対象として、1次処理を行ってみます。  \n",
    "ここでの工程は\n",
    "- ダーク補正用フレームの作成  -> (1) とする\n",
    "- フラット補正用フレームの作成 -> (2) とする\n",
    "- ターゲットの生データから(1)を引き、それを(2)で割る -> (3)とする\n",
    "- (3) の集合からスカイバイアスフレームを作成する (セルフスカイ) -> (4)とする\n",
    "- (3) のそれぞれから(4)を引く\n",
    "\n",
    "通常は「ダーク補正用フレーム」のことを単純に「ダーク」、「フラット補正用フレーム」のことを「フラット」と省略して呼びます。\n",
    "\n",
    "\n",
    "#### ダーク補正用フレームの作成\n",
    "\n",
    "「生データからダークを引き」のダークは、通常、複数枚(10枚程度)のダークの平均(メジアン)から作成するダーク補正用フレームを指します。  \n",
    "平均(メジアン)をとることで、もっともらしいダーク補正用フレームを作成します。S/Nの良いフレームとなり、平均(メジアン)をとることで、偶然読み出しが変なフレームが混ざっていても、その影響を無しに、あるいは小さくすることができます。  \n",
    "\n",
    "#### iraf.imcombine \n",
    "\n",
    "irafのimcombineがまさに、複数枚のフレームの平均を作成するためのタスクです。  \n"
   ]
  },
  {
   "cell_type": "code",
   "execution_count": 1,
   "metadata": {},
   "outputs": [
    {
     "name": "stdout",
     "output_type": "stream",
     "text": [
      "Warning: sscanf library not installed on darwin\n"
     ]
    }
   ],
   "source": [
    "from pyraf import iraf"
   ]
  },
  {
   "cell_type": "code",
   "execution_count": 2,
   "metadata": {
    "collapsed": true
   },
   "outputs": [],
   "source": [
    "iraf.imcombine.unlearn()"
   ]
  },
  {
   "cell_type": "markdown",
   "metadata": {},
   "source": [
    "ファイル名をカンマ区切りで並べた文字列をinputとして与えます。するとこれらのファイルをスタックして平均を計算してくれます。  \n",
    "\n",
    "下では文字列が長いので、バックスラッシュ\\ を使って折り返します。バックスラッシュの後にスペースを入れないこと。\n",
    "(macではOption + ¥でバックスラッシュになります)"
   ]
  },
  {
   "cell_type": "code",
   "execution_count": 3,
   "metadata": {
    "collapsed": true
   },
   "outputs": [],
   "source": [
    "iraf.imcombine.input = 'sample_data2/ir0029.fits, sample_data2/ir0030.fits, \\\n",
    "    sample_data2/ir0031.fits, sample_data2/ir0032.fits, sample_data2/ir0033.fits'"
   ]
  },
  {
   "cell_type": "markdown",
   "metadata": {},
   "source": [
    "出力先ファイル名をdark5.fitsとし、medianで平均をとります。"
   ]
  },
  {
   "cell_type": "code",
   "execution_count": 4,
   "metadata": {},
   "outputs": [
    {
     "name": "stdout",
     "output_type": "stream",
     "text": [
      "\n",
      "Jul 26  9:45: IMCOMBINE\n",
      "  combine = median, scale = none, zero = none, weight = none\n",
      "  blank = 0.\n",
      "                Images \n",
      "  sample_data2/ir0029.fits\n",
      "  sample_data2/ir0030.fits\n",
      "  sample_data2/ir0031.fits\n",
      "  sample_data2/ir0032.fits\n",
      "  sample_data2/ir0033.fits\n",
      "\n",
      "  Output image = dark5.fits, ncombine = 5\n"
     ]
    }
   ],
   "source": [
    "iraf.imcombine(output='dark5.fits', combine='median')  "
   ]
  },
  {
   "cell_type": "markdown",
   "metadata": {},
   "source": [
    "#### _補足_  \n",
    "'sample_data2/ir0029.fits, sample_data2/ir0030.fits, sample_data2/ir0031.fits, sample_data2/ir0032.fits, sample_data2/ir0033.fits' って長いですよね。ここでは5つのファイルだけでしたが、もっと長くなることだってありえます。  \n",
    "下のように、globを利用して、こんなふうに該当する文字列を作成することができます。"
   ]
  },
  {
   "cell_type": "code",
   "execution_count": 5,
   "metadata": {
    "collapsed": true
   },
   "outputs": [],
   "source": [
    "import glob\n",
    "comstr = '' \n",
    "for item in glob.glob('sample_data2/*.fits'):\n",
    "    if 29 <= int(item[-7:-5])  <= 33:  #  4桁の番号の最後の二桁\n",
    "        comstr += item + ',' "
   ]
  },
  {
   "cell_type": "code",
   "execution_count": 6,
   "metadata": {},
   "outputs": [
    {
     "data": {
      "text/plain": [
       "'sample_data2/ir0029.fits,sample_data2/ir0030.fits,sample_data2/ir0031.fits,sample_data2/ir0032.fits,sample_data2/ir0033.fits'"
      ]
     },
     "execution_count": 6,
     "metadata": {},
     "output_type": "execute_result"
    }
   ],
   "source": [
    "comstr[:-1]  # 末尾の , を削除"
   ]
  },
  {
   "cell_type": "markdown",
   "metadata": {
    "collapsed": true
   },
   "source": [
    "#### フラット補正用フレームの作成  \n",
    "\n",
    "フラット補正用フレームの作成方法には何通りかありますが、ここではドームフラットを使います。  \n",
    "(IRSF/SIRIUSでは通常、トワイライトフラットを使うのですが、ここでは例外的に、処理工程のより簡単なドームフラットを使います。)  \n",
    "\n",
    "工程は次の4ステップです。  \n",
    "- ランプOFFのドームフラットの平均フレーム作成 ->(1)とする\n",
    "- ランプONのドームフラットの平均フレーム作成 ->(2)とする\n",
    "- (2) から (1)を引く -> (3)とする\n",
    "- (3) を規格化する "
   ]
  },
  {
   "cell_type": "code",
   "execution_count": 7,
   "metadata": {
    "collapsed": true
   },
   "outputs": [],
   "source": [
    "iraf.imcombine.input = 'sample_data2/ir0001.fits, sample_data2/ir0002.fits, \\\n",
    "    sample_data2/ir0003.fits, sample_data2/ir0004.fits, sample_data2/ir0005.fits'"
   ]
  },
  {
   "cell_type": "code",
   "execution_count": 8,
   "metadata": {},
   "outputs": [
    {
     "name": "stdout",
     "output_type": "stream",
     "text": [
      "\n",
      "Jul 26  9:46: IMCOMBINE\n",
      "  combine = median, scale = none, zero = none, weight = none\n",
      "  blank = 0.\n",
      "                Images \n",
      "  sample_data2/ir0001.fits\n",
      "  sample_data2/ir0002.fits\n",
      "  sample_data2/ir0003.fits\n",
      "  sample_data2/ir0004.fits\n",
      "  sample_data2/ir0005.fits\n",
      "\n",
      "  Output image = domeoff.fits, ncombine = 5\n"
     ]
    }
   ],
   "source": [
    "iraf.imcombine(output='domeoff.fits', combine='median')  "
   ]
  },
  {
   "cell_type": "code",
   "execution_count": 9,
   "metadata": {
    "collapsed": true
   },
   "outputs": [],
   "source": [
    "iraf.imcombine.input = 'sample_data2/ir0006.fits, sample_data2/ir0007.fits, \\\n",
    "    sample_data2/ir0008.fits, sample_data2/ir0009.fits, sample_data2/ir0010.fits'"
   ]
  },
  {
   "cell_type": "code",
   "execution_count": 10,
   "metadata": {},
   "outputs": [
    {
     "name": "stdout",
     "output_type": "stream",
     "text": [
      "\n",
      "Jul 26  9:46: IMCOMBINE\n",
      "  combine = median, scale = none, zero = none, weight = none\n",
      "  blank = 0.\n",
      "                Images \n",
      "  sample_data2/ir0006.fits\n",
      "  sample_data2/ir0007.fits\n",
      "  sample_data2/ir0008.fits\n",
      "  sample_data2/ir0009.fits\n",
      "  sample_data2/ir0010.fits\n",
      "\n",
      "  Output image = domeon.fits, ncombine = 5\n"
     ]
    }
   ],
   "source": [
    "iraf.imcombine(output='domeon.fits', combine='median')  "
   ]
  },
  {
   "cell_type": "markdown",
   "metadata": {},
   "source": [
    "domeoff.fitsとdomeon.fitsができました。この二つの画像の引き算をするために、irafの**imarith**を使います。"
   ]
  },
  {
   "cell_type": "code",
   "execution_count": 11,
   "metadata": {
    "collapsed": true
   },
   "outputs": [],
   "source": [
    "iraf.imarith('domeon.fits', '-', 'domeoff.fits', 'flat.fits')"
   ]
  },
  {
   "cell_type": "markdown",
   "metadata": {},
   "source": [
    "次に、flat.fitsを規格化します。具体的には、メジアン値で画像全体を割ります。"
   ]
  },
  {
   "cell_type": "code",
   "execution_count": 12,
   "metadata": {
    "collapsed": true
   },
   "outputs": [],
   "source": [
    "iraf.imstat.unlearn()\n",
    "iraf.imstat.fields = 'midpt, stddev'\n",
    "iraf.imstat.lower = 100\n",
    "iraf.imstat.upper = 10000\n",
    "iraf.imstat.nclip = 5"
   ]
  },
  {
   "cell_type": "code",
   "execution_count": 13,
   "metadata": {},
   "outputs": [
    {
     "name": "stdout",
     "output_type": "stream",
     "text": [
      "#     MIDPT    STDDEV\n",
      "      3412.     132.2\n"
     ]
    }
   ],
   "source": [
    "iraf.imstat('flat.fits')"
   ]
  },
  {
   "cell_type": "code",
   "execution_count": 14,
   "metadata": {
    "collapsed": true
   },
   "outputs": [],
   "source": [
    "iraf.imarith('flat.fits', '/', 3412, 'flat.fits')  #  元のファイルへの上書きはOK "
   ]
  },
  {
   "cell_type": "markdown",
   "metadata": {},
   "source": [
    "既存のファイル名のファイルに書き出そうとするとエラーがでます。元のファイルへの上書き更新はOKです。"
   ]
  },
  {
   "cell_type": "markdown",
   "metadata": {},
   "source": [
    "#### ターゲットからダークを引き、フラットで割る  \n",
    "\n",
    "target1の観測セットの1番目のフレームについて、ダーク引き、フラット割りの処理をしてみます。"
   ]
  },
  {
   "cell_type": "code",
   "execution_count": 15,
   "metadata": {
    "collapsed": true
   },
   "outputs": [],
   "source": [
    "iraf.imarith('sample_data2/ir0011.fits', '-', 'dark5.fits', 'tmp.fits')\n",
    "iraf.imarith('tmp.fits', '/', 'flat.fits', 'tmp.fits')"
   ]
  },
  {
   "cell_type": "markdown",
   "metadata": {},
   "source": [
    "ir0011.fits からdarkを引き、フラットで割った結果のファイル名をidf0011.fitsのように、先頭についている文字列をirからidf(darkとflat処理済み)と変えた名前にしてやり、通し番号は同じにしておくことにします。\n",
    "\n",
    "\n",
    "``` python \n",
    "iraf.imarith('sample_data2/ir0011.fits', '-', 'dark5.fits', 'idf0011.fits')\n",
    "iraf.imarith('idf0011.fits', '/', 'flat.fits', 'idf0011.fits')\n",
    "\n",
    "iraf.imarith('sample_data2/ir0012.fits', '-', 'dark5.fits', 'idf0012.fits')\n",
    "iraf.imarith('idf0012.fits', '/', 'flat.fits', 'idf0012.fits')\n",
    "\n",
    "iraf.imarith('sample_data2/ir0013.fits', '-', 'dark5.fits', 'idf0013.fits')\n",
    "iraf.imarith('idf0013.fits', '/', 'flat.fits', 'idf0013.fits')\n",
    "```\n",
    "... \n",
    "と真面目に全部書くのは面倒ですね。  \n",
    "これを、0011から0019の全てについてまとめて行うには、次のようにforループで行います。"
   ]
  },
  {
   "cell_type": "code",
   "execution_count": 16,
   "metadata": {
    "collapsed": true
   },
   "outputs": [],
   "source": [
    "for num in range(11, 20): #  注意！ 19ではなく20！\n",
    "    snum = str(num) #  数値を文字列に変換\n",
    "    rfile = 'sample_data2/ir00' + snum + '.fits'\n",
    "    iraf.imarith(rfile, '-', 'dark5.fits', 'idf00' + snum + '.fits') \n",
    "    iraf.imarith('idf00' + snum + '.fits', '/', 'flat.fits', 'idf00' + snum + '.fits')"
   ]
  },
  {
   "cell_type": "markdown",
   "metadata": {},
   "source": [
    "通し番号だけをforループの繰り返し変数として扱うほうが、下のよりも簡単にプログラムが書けます。\n",
    "``` python \n",
    "for rfile in ['sample_data2/ir0011.fits', 'sample_data2/ir0012.fits',  ... (以下省略)]:\n",
    "    ... (以下省略) \n",
    "```\n",
    "\n",
    "#### _補足_  \n",
    "上の場合だと、「9から13まで」とか「98から102まで」のように、数値の桁数が変わる場合には困りますね。\n",
    "通し番号をより一般的に扱うには、**zfill()**を使います。引数で指定した桁数の数の文字列を作成します。"
   ]
  },
  {
   "cell_type": "code",
   "execution_count": 17,
   "metadata": {},
   "outputs": [
    {
     "data": {
      "text/plain": [
       "'0010'"
      ]
     },
     "execution_count": 17,
     "metadata": {},
     "output_type": "execute_result"
    }
   ],
   "source": [
    "x = str(10)\n",
    "x.zfill(4)"
   ]
  },
  {
   "cell_type": "markdown",
   "metadata": {},
   "source": [
    "書き換えると下のようになります。\n",
    "``` python \n",
    "for num in range(11, 20): \n",
    "    snum = str(num).zfill(4) #  数値を文字列に変換してから、4桁の文字列に\n",
    "    rfile = 'sample_data2/ir' + snum + '.fits'\n",
    "    iraf.imarith(rfile, '-', 'dark5.fits', 'idf' + snum + '.fits') \n",
    "    iraf.imarith('idf' + snum + '.fits', '/', 'flat.fits', 'idf' + snum + '.fits')\n",
    "``` "
   ]
  },
  {
   "cell_type": "markdown",
   "metadata": {},
   "source": [
    "#### スカイバイアスを作成  \n",
    "\n",
    "ここでは、セルフスカイを作成して、それをスカイバイアスとします。  \n",
    "視野に写っている星の数が少ない、星雲状の天体が写っていない、といった場合に、自らのディザリングのセットのフレームのメジアンの画像を作成することで、星が消えて、「足し算成分」のスカイバイアス画像が得られます。\n"
   ]
  },
  {
   "cell_type": "code",
   "execution_count": 18,
   "metadata": {
    "collapsed": true
   },
   "outputs": [],
   "source": [
    "iraf.imcombine.input = 'idf0011.fits, idf0012.fits, idf0013.fits, idf0014.fits, idf0015.fits, \\\n",
    "    idf0016.fits, idf0017.fits, idf0018.fits, idf0019.fits'"
   ]
  },
  {
   "cell_type": "markdown",
   "metadata": {},
   "source": [
    "**[ポイント!]**  iraf.imcombine.zero = 'median' としてやることで、星がよりキレイに消えます。 combine時にバックグラウンドの値を、足したり引いたりして、そろえることになります。それにより、外れ値がちゃんと除外されます。"
   ]
  },
  {
   "cell_type": "code",
   "execution_count": 20,
   "metadata": {},
   "outputs": [
    {
     "name": "stdout",
     "output_type": "stream",
     "text": [
      "\n",
      "Jul 26  9:47: IMCOMBINE\n",
      "  combine = median, scale = none, zero = median, weight = none\n",
      "  blank = 0.\n",
      "                Images   Median    Zero\n",
      "           idf0011.fits  1991.5      0.\n",
      "           idf0012.fits  1976.6  14.882\n",
      "           idf0013.fits  1971.7  19.846\n",
      "           idf0014.fits  1983.3   8.224\n",
      "           idf0015.fits  1984.7  6.8293\n",
      "           idf0016.fits  1994.4 -2.8705\n",
      "           idf0017.fits  2004.2 -12.681\n",
      "           idf0018.fits  1993.6 -2.1014\n",
      "           idf0019.fits  1976.5  15.052\n",
      "\n",
      "  Output image = skybias1.fits, ncombine = 9\n"
     ]
    }
   ],
   "source": [
    "iraf.imcombine(output='skybias1.fits', zero='median', combine='median')  "
   ]
  },
  {
   "cell_type": "markdown",
   "metadata": {},
   "source": [
    "#### スカイバイアスを引く \n",
    "\n",
    "ダーク引き、フラット割りをした画像からスカイバイアスを引きます。  "
   ]
  },
  {
   "cell_type": "code",
   "execution_count": 21,
   "metadata": {
    "collapsed": true
   },
   "outputs": [],
   "source": [
    "for num in range(11, 20): \n",
    "    snum = str(num) #  数値を文字列に変換\n",
    "    iraf.imarith('idf00' + snum + '.fits', '-', 'skybias1.fits', 'idfs00' + snum + '.fits')"
   ]
  },
  {
   "cell_type": "markdown",
   "metadata": {},
   "source": [
    "### 演習2 \n",
    "target2を対象として、上の1次処理を行ってください。  \n",
    "ただし、積分時間が10秒なので、10秒のダーク補正用フレームを作成する必要があります。  \n",
    "フラット補正用フレームは上で作成したもの(flat.fits)が使えます。  (sample_data3にも入っています。)\n",
    "\n",
    "**ボーナス問題**  \n",
    "zero='median'を指定せずに、スカイバイアスを作成してみましょう。  \n",
    "そして、そのスカイバイアスをidf0020.fitsから引いてみましょう。 (このとき書き出すファイル名を変えておきましょう)\n",
    "zero='median'を指定したものと比較してみてください。"
   ]
  }
 ],
 "metadata": {
  "kernelspec": {
   "display_name": "Python 3",
   "language": "python",
   "name": "python3"
  },
  "language_info": {
   "codemirror_mode": {
    "name": "ipython",
    "version": 3
   },
   "file_extension": ".py",
   "mimetype": "text/x-python",
   "name": "python",
   "nbconvert_exporter": "python",
   "pygments_lexer": "ipython3",
   "version": "3.5.3"
  }
 },
 "nbformat": 4,
 "nbformat_minor": 2
}
